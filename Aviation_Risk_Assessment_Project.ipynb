{
  "cells": [
    {
      "cell_type": "markdown",
      "id": "f76fa109-3d3a-46e5-8585-5722c849742c",
      "metadata": {
        "id": "f76fa109-3d3a-46e5-8585-5722c849742c"
      },
      "source": [
        "# **Aiation Risk Assessment Project**\n",
        "\n",
        "---\n",
        "\n"
      ]
    },
    {
      "cell_type": "markdown",
      "id": "50fb182a-6203-4deb-b98a-9fc7cbb35643",
      "metadata": {
        "id": "50fb182a-6203-4deb-b98a-9fc7cbb35643"
      },
      "source": [
        "# **Business Problem**\n",
        "\n",
        "Your company is expanding in to new industries to diversify its portfolio. Specifically, they are interested in purchasing and operating airplanes for commercial and private enterprises, but do not know anything about the potential risks of aircraft. You are charged with determining which aircraft are the lowest risk for the company to start this new business endeavor. You must then translate your findings into actionable insights that the head of the new aviation division can use to help decide which aircraft to purchase."
      ]
    },
    {
      "cell_type": "markdown",
      "id": "1e8ccc07-4a40-4c4f-9e9b-5560c8f9abe2",
      "metadata": {
        "id": "1e8ccc07-4a40-4c4f-9e9b-5560c8f9abe2"
      },
      "source": [
        "The Data\n",
        "In the data folder is a datasetLinks to an external site. from the National Transportation Safety Board that includes aviation accident data from 1962 to 2023 about civil aviation accidents and selected incidents in the United States and international waters."
      ]
    },
    {
      "cell_type": "markdown",
      "id": "5564a6c6-b372-46c0-9ae0-39a6495cd77e",
      "metadata": {
        "id": "5564a6c6-b372-46c0-9ae0-39a6495cd77e"
      },
      "source": [
        "In the cell below we are exporting relevant libraries that will be useful in our analysis"
      ]
    },
    {
      "cell_type": "code",
      "execution_count": null,
      "id": "0c7442df-9176-4ac3-a38c-7706ae96b5b3",
      "metadata": {
        "id": "0c7442df-9176-4ac3-a38c-7706ae96b5b3"
      },
      "outputs": [],
      "source": [
        "#importing libraries\n",
        "import pandas as pd\n",
        "import numpy as np\n",
        "import seaborn as sns\n",
        "import matplotlib.pyplot as plt\n",
        "#ensuring that Matplotlib plots are displayed within the notebook\n",
        "%matplotlib inline"
      ]
    },
    {
      "cell_type": "markdown",
      "id": "b1ca41a5-0c4c-420d-9a8f-9a3c95b4d55a",
      "metadata": {
        "id": "b1ca41a5-0c4c-420d-9a8f-9a3c95b4d55a"
      },
      "source": [
        "Opening the csv and excel  files as a dataframes called AviationData_df and Assessment_df respectively."
      ]
    },
    {
      "cell_type": "code",
      "execution_count": null,
      "id": "2d3f1e07-ef5e-4e9a-8f6d-45b8c9627997",
      "metadata": {
        "id": "2d3f1e07-ef5e-4e9a-8f6d-45b8c9627997"
      },
      "outputs": [],
      "source": [
        "#Opening csv file as a dataframe\n",
        "with open('AviationData.csv', encoding='utf-8', errors='replace') as f:\n",
        "    AviationData_df = pd.read_csv(f,low_memory=False)\n",
        "#opening excel file as a dataframe\n",
        "with open('USState_Codes.csv', encoding='utf-8', errors='replace') as f:\n",
        "    USState_Codes_df = pd.read_csv(f, low_memory=False)"
      ]
    },
    {
      "cell_type": "markdown",
      "id": "a40601f3-00cf-4cc2-9c8a-91ae58dfd255",
      "metadata": {
        "id": "a40601f3-00cf-4cc2-9c8a-91ae58dfd255"
      },
      "source": [
        "Displaying the first few rows of the DataFrames to get a quick preview of the top records of your dataset and inspect the structure of the data, such as the column names, types, and values."
      ]
    },
    {
      "cell_type": "code",
      "execution_count": null,
      "id": "b86a10f8-0290-4b2a-bec4-6410d49a0aef",
      "metadata": {
        "colab": {
          "base_uri": "https://localhost:8080/",
          "height": 342
        },
        "id": "b86a10f8-0290-4b2a-bec4-6410d49a0aef",
        "outputId": "67d6ad6b-e8b7-4e10-f44b-b4ff726e711d"
      },
      "outputs": [
        {
          "output_type": "execute_result",
          "data": {
            "text/plain": [
              "         Event.Id Investigation.Type Accident.Number  Event.Date  \\\n",
              "0  20001218X45444           Accident      SEA87LA080  1948-10-24   \n",
              "1  20001218X45447           Accident      LAX94LA336  1962-07-19   \n",
              "2  20061025X01555           Accident      NYC07LA005  1974-08-30   \n",
              "3  20001218X45448           Accident      LAX96LA321  1977-06-19   \n",
              "4  20041105X01764           Accident      CHI79FA064  1979-08-02   \n",
              "\n",
              "          Location        Country   Latitude   Longitude Airport.Code  \\\n",
              "0  MOOSE CREEK, ID  United States        NaN         NaN          NaN   \n",
              "1   BRIDGEPORT, CA  United States        NaN         NaN          NaN   \n",
              "2    Saltville, VA  United States  36.922223  -81.878056          NaN   \n",
              "3       EUREKA, CA  United States        NaN         NaN          NaN   \n",
              "4       Canton, OH  United States        NaN         NaN          NaN   \n",
              "\n",
              "  Airport.Name  ... Purpose.of.flight Air.carrier Total.Fatal.Injuries  \\\n",
              "0          NaN  ...          Personal         NaN                  2.0   \n",
              "1          NaN  ...          Personal         NaN                  4.0   \n",
              "2          NaN  ...          Personal         NaN                  3.0   \n",
              "3          NaN  ...          Personal         NaN                  2.0   \n",
              "4          NaN  ...          Personal         NaN                  1.0   \n",
              "\n",
              "  Total.Serious.Injuries Total.Minor.Injuries Total.Uninjured  \\\n",
              "0                    0.0                  0.0             0.0   \n",
              "1                    0.0                  0.0             0.0   \n",
              "2                    NaN                  NaN             NaN   \n",
              "3                    0.0                  0.0             0.0   \n",
              "4                    2.0                  NaN             0.0   \n",
              "\n",
              "  Weather.Condition  Broad.phase.of.flight   Report.Status Publication.Date  \n",
              "0               UNK                 Cruise  Probable Cause              NaN  \n",
              "1               UNK                Unknown  Probable Cause       19-09-1996  \n",
              "2               IMC                 Cruise  Probable Cause       26-02-2007  \n",
              "3               IMC                 Cruise  Probable Cause       12-09-2000  \n",
              "4               VMC               Approach  Probable Cause       16-04-1980  \n",
              "\n",
              "[5 rows x 31 columns]"
            ],
            "text/html": [
              "\n",
              "  <div id=\"df-84fbbf2b-ea69-435b-b196-5aeab8e9ebe9\" class=\"colab-df-container\">\n",
              "    <div>\n",
              "<style scoped>\n",
              "    .dataframe tbody tr th:only-of-type {\n",
              "        vertical-align: middle;\n",
              "    }\n",
              "\n",
              "    .dataframe tbody tr th {\n",
              "        vertical-align: top;\n",
              "    }\n",
              "\n",
              "    .dataframe thead th {\n",
              "        text-align: right;\n",
              "    }\n",
              "</style>\n",
              "<table border=\"1\" class=\"dataframe\">\n",
              "  <thead>\n",
              "    <tr style=\"text-align: right;\">\n",
              "      <th></th>\n",
              "      <th>Event.Id</th>\n",
              "      <th>Investigation.Type</th>\n",
              "      <th>Accident.Number</th>\n",
              "      <th>Event.Date</th>\n",
              "      <th>Location</th>\n",
              "      <th>Country</th>\n",
              "      <th>Latitude</th>\n",
              "      <th>Longitude</th>\n",
              "      <th>Airport.Code</th>\n",
              "      <th>Airport.Name</th>\n",
              "      <th>...</th>\n",
              "      <th>Purpose.of.flight</th>\n",
              "      <th>Air.carrier</th>\n",
              "      <th>Total.Fatal.Injuries</th>\n",
              "      <th>Total.Serious.Injuries</th>\n",
              "      <th>Total.Minor.Injuries</th>\n",
              "      <th>Total.Uninjured</th>\n",
              "      <th>Weather.Condition</th>\n",
              "      <th>Broad.phase.of.flight</th>\n",
              "      <th>Report.Status</th>\n",
              "      <th>Publication.Date</th>\n",
              "    </tr>\n",
              "  </thead>\n",
              "  <tbody>\n",
              "    <tr>\n",
              "      <th>0</th>\n",
              "      <td>20001218X45444</td>\n",
              "      <td>Accident</td>\n",
              "      <td>SEA87LA080</td>\n",
              "      <td>1948-10-24</td>\n",
              "      <td>MOOSE CREEK, ID</td>\n",
              "      <td>United States</td>\n",
              "      <td>NaN</td>\n",
              "      <td>NaN</td>\n",
              "      <td>NaN</td>\n",
              "      <td>NaN</td>\n",
              "      <td>...</td>\n",
              "      <td>Personal</td>\n",
              "      <td>NaN</td>\n",
              "      <td>2.0</td>\n",
              "      <td>0.0</td>\n",
              "      <td>0.0</td>\n",
              "      <td>0.0</td>\n",
              "      <td>UNK</td>\n",
              "      <td>Cruise</td>\n",
              "      <td>Probable Cause</td>\n",
              "      <td>NaN</td>\n",
              "    </tr>\n",
              "    <tr>\n",
              "      <th>1</th>\n",
              "      <td>20001218X45447</td>\n",
              "      <td>Accident</td>\n",
              "      <td>LAX94LA336</td>\n",
              "      <td>1962-07-19</td>\n",
              "      <td>BRIDGEPORT, CA</td>\n",
              "      <td>United States</td>\n",
              "      <td>NaN</td>\n",
              "      <td>NaN</td>\n",
              "      <td>NaN</td>\n",
              "      <td>NaN</td>\n",
              "      <td>...</td>\n",
              "      <td>Personal</td>\n",
              "      <td>NaN</td>\n",
              "      <td>4.0</td>\n",
              "      <td>0.0</td>\n",
              "      <td>0.0</td>\n",
              "      <td>0.0</td>\n",
              "      <td>UNK</td>\n",
              "      <td>Unknown</td>\n",
              "      <td>Probable Cause</td>\n",
              "      <td>19-09-1996</td>\n",
              "    </tr>\n",
              "    <tr>\n",
              "      <th>2</th>\n",
              "      <td>20061025X01555</td>\n",
              "      <td>Accident</td>\n",
              "      <td>NYC07LA005</td>\n",
              "      <td>1974-08-30</td>\n",
              "      <td>Saltville, VA</td>\n",
              "      <td>United States</td>\n",
              "      <td>36.922223</td>\n",
              "      <td>-81.878056</td>\n",
              "      <td>NaN</td>\n",
              "      <td>NaN</td>\n",
              "      <td>...</td>\n",
              "      <td>Personal</td>\n",
              "      <td>NaN</td>\n",
              "      <td>3.0</td>\n",
              "      <td>NaN</td>\n",
              "      <td>NaN</td>\n",
              "      <td>NaN</td>\n",
              "      <td>IMC</td>\n",
              "      <td>Cruise</td>\n",
              "      <td>Probable Cause</td>\n",
              "      <td>26-02-2007</td>\n",
              "    </tr>\n",
              "    <tr>\n",
              "      <th>3</th>\n",
              "      <td>20001218X45448</td>\n",
              "      <td>Accident</td>\n",
              "      <td>LAX96LA321</td>\n",
              "      <td>1977-06-19</td>\n",
              "      <td>EUREKA, CA</td>\n",
              "      <td>United States</td>\n",
              "      <td>NaN</td>\n",
              "      <td>NaN</td>\n",
              "      <td>NaN</td>\n",
              "      <td>NaN</td>\n",
              "      <td>...</td>\n",
              "      <td>Personal</td>\n",
              "      <td>NaN</td>\n",
              "      <td>2.0</td>\n",
              "      <td>0.0</td>\n",
              "      <td>0.0</td>\n",
              "      <td>0.0</td>\n",
              "      <td>IMC</td>\n",
              "      <td>Cruise</td>\n",
              "      <td>Probable Cause</td>\n",
              "      <td>12-09-2000</td>\n",
              "    </tr>\n",
              "    <tr>\n",
              "      <th>4</th>\n",
              "      <td>20041105X01764</td>\n",
              "      <td>Accident</td>\n",
              "      <td>CHI79FA064</td>\n",
              "      <td>1979-08-02</td>\n",
              "      <td>Canton, OH</td>\n",
              "      <td>United States</td>\n",
              "      <td>NaN</td>\n",
              "      <td>NaN</td>\n",
              "      <td>NaN</td>\n",
              "      <td>NaN</td>\n",
              "      <td>...</td>\n",
              "      <td>Personal</td>\n",
              "      <td>NaN</td>\n",
              "      <td>1.0</td>\n",
              "      <td>2.0</td>\n",
              "      <td>NaN</td>\n",
              "      <td>0.0</td>\n",
              "      <td>VMC</td>\n",
              "      <td>Approach</td>\n",
              "      <td>Probable Cause</td>\n",
              "      <td>16-04-1980</td>\n",
              "    </tr>\n",
              "  </tbody>\n",
              "</table>\n",
              "<p>5 rows × 31 columns</p>\n",
              "</div>\n",
              "    <div class=\"colab-df-buttons\">\n",
              "\n",
              "  <div class=\"colab-df-container\">\n",
              "    <button class=\"colab-df-convert\" onclick=\"convertToInteractive('df-84fbbf2b-ea69-435b-b196-5aeab8e9ebe9')\"\n",
              "            title=\"Convert this dataframe to an interactive table.\"\n",
              "            style=\"display:none;\">\n",
              "\n",
              "  <svg xmlns=\"http://www.w3.org/2000/svg\" height=\"24px\" viewBox=\"0 -960 960 960\">\n",
              "    <path d=\"M120-120v-720h720v720H120Zm60-500h600v-160H180v160Zm220 220h160v-160H400v160Zm0 220h160v-160H400v160ZM180-400h160v-160H180v160Zm440 0h160v-160H620v160ZM180-180h160v-160H180v160Zm440 0h160v-160H620v160Z\"/>\n",
              "  </svg>\n",
              "    </button>\n",
              "\n",
              "  <style>\n",
              "    .colab-df-container {\n",
              "      display:flex;\n",
              "      gap: 12px;\n",
              "    }\n",
              "\n",
              "    .colab-df-convert {\n",
              "      background-color: #E8F0FE;\n",
              "      border: none;\n",
              "      border-radius: 50%;\n",
              "      cursor: pointer;\n",
              "      display: none;\n",
              "      fill: #1967D2;\n",
              "      height: 32px;\n",
              "      padding: 0 0 0 0;\n",
              "      width: 32px;\n",
              "    }\n",
              "\n",
              "    .colab-df-convert:hover {\n",
              "      background-color: #E2EBFA;\n",
              "      box-shadow: 0px 1px 2px rgba(60, 64, 67, 0.3), 0px 1px 3px 1px rgba(60, 64, 67, 0.15);\n",
              "      fill: #174EA6;\n",
              "    }\n",
              "\n",
              "    .colab-df-buttons div {\n",
              "      margin-bottom: 4px;\n",
              "    }\n",
              "\n",
              "    [theme=dark] .colab-df-convert {\n",
              "      background-color: #3B4455;\n",
              "      fill: #D2E3FC;\n",
              "    }\n",
              "\n",
              "    [theme=dark] .colab-df-convert:hover {\n",
              "      background-color: #434B5C;\n",
              "      box-shadow: 0px 1px 3px 1px rgba(0, 0, 0, 0.15);\n",
              "      filter: drop-shadow(0px 1px 2px rgba(0, 0, 0, 0.3));\n",
              "      fill: #FFFFFF;\n",
              "    }\n",
              "  </style>\n",
              "\n",
              "    <script>\n",
              "      const buttonEl =\n",
              "        document.querySelector('#df-84fbbf2b-ea69-435b-b196-5aeab8e9ebe9 button.colab-df-convert');\n",
              "      buttonEl.style.display =\n",
              "        google.colab.kernel.accessAllowed ? 'block' : 'none';\n",
              "\n",
              "      async function convertToInteractive(key) {\n",
              "        const element = document.querySelector('#df-84fbbf2b-ea69-435b-b196-5aeab8e9ebe9');\n",
              "        const dataTable =\n",
              "          await google.colab.kernel.invokeFunction('convertToInteractive',\n",
              "                                                    [key], {});\n",
              "        if (!dataTable) return;\n",
              "\n",
              "        const docLinkHtml = 'Like what you see? Visit the ' +\n",
              "          '<a target=\"_blank\" href=https://colab.research.google.com/notebooks/data_table.ipynb>data table notebook</a>'\n",
              "          + ' to learn more about interactive tables.';\n",
              "        element.innerHTML = '';\n",
              "        dataTable['output_type'] = 'display_data';\n",
              "        await google.colab.output.renderOutput(dataTable, element);\n",
              "        const docLink = document.createElement('div');\n",
              "        docLink.innerHTML = docLinkHtml;\n",
              "        element.appendChild(docLink);\n",
              "      }\n",
              "    </script>\n",
              "  </div>\n",
              "\n",
              "\n",
              "<div id=\"df-b9f863ef-64e7-412d-9328-0f19dfe10ddf\">\n",
              "  <button class=\"colab-df-quickchart\" onclick=\"quickchart('df-b9f863ef-64e7-412d-9328-0f19dfe10ddf')\"\n",
              "            title=\"Suggest charts\"\n",
              "            style=\"display:none;\">\n",
              "\n",
              "<svg xmlns=\"http://www.w3.org/2000/svg\" height=\"24px\"viewBox=\"0 0 24 24\"\n",
              "     width=\"24px\">\n",
              "    <g>\n",
              "        <path d=\"M19 3H5c-1.1 0-2 .9-2 2v14c0 1.1.9 2 2 2h14c1.1 0 2-.9 2-2V5c0-1.1-.9-2-2-2zM9 17H7v-7h2v7zm4 0h-2V7h2v10zm4 0h-2v-4h2v4z\"/>\n",
              "    </g>\n",
              "</svg>\n",
              "  </button>\n",
              "\n",
              "<style>\n",
              "  .colab-df-quickchart {\n",
              "      --bg-color: #E8F0FE;\n",
              "      --fill-color: #1967D2;\n",
              "      --hover-bg-color: #E2EBFA;\n",
              "      --hover-fill-color: #174EA6;\n",
              "      --disabled-fill-color: #AAA;\n",
              "      --disabled-bg-color: #DDD;\n",
              "  }\n",
              "\n",
              "  [theme=dark] .colab-df-quickchart {\n",
              "      --bg-color: #3B4455;\n",
              "      --fill-color: #D2E3FC;\n",
              "      --hover-bg-color: #434B5C;\n",
              "      --hover-fill-color: #FFFFFF;\n",
              "      --disabled-bg-color: #3B4455;\n",
              "      --disabled-fill-color: #666;\n",
              "  }\n",
              "\n",
              "  .colab-df-quickchart {\n",
              "    background-color: var(--bg-color);\n",
              "    border: none;\n",
              "    border-radius: 50%;\n",
              "    cursor: pointer;\n",
              "    display: none;\n",
              "    fill: var(--fill-color);\n",
              "    height: 32px;\n",
              "    padding: 0;\n",
              "    width: 32px;\n",
              "  }\n",
              "\n",
              "  .colab-df-quickchart:hover {\n",
              "    background-color: var(--hover-bg-color);\n",
              "    box-shadow: 0 1px 2px rgba(60, 64, 67, 0.3), 0 1px 3px 1px rgba(60, 64, 67, 0.15);\n",
              "    fill: var(--button-hover-fill-color);\n",
              "  }\n",
              "\n",
              "  .colab-df-quickchart-complete:disabled,\n",
              "  .colab-df-quickchart-complete:disabled:hover {\n",
              "    background-color: var(--disabled-bg-color);\n",
              "    fill: var(--disabled-fill-color);\n",
              "    box-shadow: none;\n",
              "  }\n",
              "\n",
              "  .colab-df-spinner {\n",
              "    border: 2px solid var(--fill-color);\n",
              "    border-color: transparent;\n",
              "    border-bottom-color: var(--fill-color);\n",
              "    animation:\n",
              "      spin 1s steps(1) infinite;\n",
              "  }\n",
              "\n",
              "  @keyframes spin {\n",
              "    0% {\n",
              "      border-color: transparent;\n",
              "      border-bottom-color: var(--fill-color);\n",
              "      border-left-color: var(--fill-color);\n",
              "    }\n",
              "    20% {\n",
              "      border-color: transparent;\n",
              "      border-left-color: var(--fill-color);\n",
              "      border-top-color: var(--fill-color);\n",
              "    }\n",
              "    30% {\n",
              "      border-color: transparent;\n",
              "      border-left-color: var(--fill-color);\n",
              "      border-top-color: var(--fill-color);\n",
              "      border-right-color: var(--fill-color);\n",
              "    }\n",
              "    40% {\n",
              "      border-color: transparent;\n",
              "      border-right-color: var(--fill-color);\n",
              "      border-top-color: var(--fill-color);\n",
              "    }\n",
              "    60% {\n",
              "      border-color: transparent;\n",
              "      border-right-color: var(--fill-color);\n",
              "    }\n",
              "    80% {\n",
              "      border-color: transparent;\n",
              "      border-right-color: var(--fill-color);\n",
              "      border-bottom-color: var(--fill-color);\n",
              "    }\n",
              "    90% {\n",
              "      border-color: transparent;\n",
              "      border-bottom-color: var(--fill-color);\n",
              "    }\n",
              "  }\n",
              "</style>\n",
              "\n",
              "  <script>\n",
              "    async function quickchart(key) {\n",
              "      const quickchartButtonEl =\n",
              "        document.querySelector('#' + key + ' button');\n",
              "      quickchartButtonEl.disabled = true;  // To prevent multiple clicks.\n",
              "      quickchartButtonEl.classList.add('colab-df-spinner');\n",
              "      try {\n",
              "        const charts = await google.colab.kernel.invokeFunction(\n",
              "            'suggestCharts', [key], {});\n",
              "      } catch (error) {\n",
              "        console.error('Error during call to suggestCharts:', error);\n",
              "      }\n",
              "      quickchartButtonEl.classList.remove('colab-df-spinner');\n",
              "      quickchartButtonEl.classList.add('colab-df-quickchart-complete');\n",
              "    }\n",
              "    (() => {\n",
              "      let quickchartButtonEl =\n",
              "        document.querySelector('#df-b9f863ef-64e7-412d-9328-0f19dfe10ddf button');\n",
              "      quickchartButtonEl.style.display =\n",
              "        google.colab.kernel.accessAllowed ? 'block' : 'none';\n",
              "    })();\n",
              "  </script>\n",
              "</div>\n",
              "\n",
              "    </div>\n",
              "  </div>\n"
            ],
            "application/vnd.google.colaboratory.intrinsic+json": {
              "type": "dataframe",
              "variable_name": "AviationData_df"
            }
          },
          "metadata": {},
          "execution_count": 90
        }
      ],
      "source": [
        "# displaying the first few rows of AviationData_df\n",
        "AviationData_df.head()"
      ]
    },
    {
      "cell_type": "code",
      "execution_count": null,
      "id": "9fbbe0c6-428e-464d-8c5b-e2ac2e544f9d",
      "metadata": {
        "colab": {
          "base_uri": "https://localhost:8080/",
          "height": 206
        },
        "id": "9fbbe0c6-428e-464d-8c5b-e2ac2e544f9d",
        "outputId": "b583ba54-dfd9-4801-df12-2070eb210478"
      },
      "outputs": [
        {
          "output_type": "execute_result",
          "data": {
            "text/plain": [
              "     US_State Abbreviation\n",
              "0     Alabama           AL\n",
              "1      Alaska           AK\n",
              "2     Arizona           AZ\n",
              "3    Arkansas           AR\n",
              "4  California           CA"
            ],
            "text/html": [
              "\n",
              "  <div id=\"df-81eb5858-1954-4aa8-8ac9-2f58e120bc2c\" class=\"colab-df-container\">\n",
              "    <div>\n",
              "<style scoped>\n",
              "    .dataframe tbody tr th:only-of-type {\n",
              "        vertical-align: middle;\n",
              "    }\n",
              "\n",
              "    .dataframe tbody tr th {\n",
              "        vertical-align: top;\n",
              "    }\n",
              "\n",
              "    .dataframe thead th {\n",
              "        text-align: right;\n",
              "    }\n",
              "</style>\n",
              "<table border=\"1\" class=\"dataframe\">\n",
              "  <thead>\n",
              "    <tr style=\"text-align: right;\">\n",
              "      <th></th>\n",
              "      <th>US_State</th>\n",
              "      <th>Abbreviation</th>\n",
              "    </tr>\n",
              "  </thead>\n",
              "  <tbody>\n",
              "    <tr>\n",
              "      <th>0</th>\n",
              "      <td>Alabama</td>\n",
              "      <td>AL</td>\n",
              "    </tr>\n",
              "    <tr>\n",
              "      <th>1</th>\n",
              "      <td>Alaska</td>\n",
              "      <td>AK</td>\n",
              "    </tr>\n",
              "    <tr>\n",
              "      <th>2</th>\n",
              "      <td>Arizona</td>\n",
              "      <td>AZ</td>\n",
              "    </tr>\n",
              "    <tr>\n",
              "      <th>3</th>\n",
              "      <td>Arkansas</td>\n",
              "      <td>AR</td>\n",
              "    </tr>\n",
              "    <tr>\n",
              "      <th>4</th>\n",
              "      <td>California</td>\n",
              "      <td>CA</td>\n",
              "    </tr>\n",
              "  </tbody>\n",
              "</table>\n",
              "</div>\n",
              "    <div class=\"colab-df-buttons\">\n",
              "\n",
              "  <div class=\"colab-df-container\">\n",
              "    <button class=\"colab-df-convert\" onclick=\"convertToInteractive('df-81eb5858-1954-4aa8-8ac9-2f58e120bc2c')\"\n",
              "            title=\"Convert this dataframe to an interactive table.\"\n",
              "            style=\"display:none;\">\n",
              "\n",
              "  <svg xmlns=\"http://www.w3.org/2000/svg\" height=\"24px\" viewBox=\"0 -960 960 960\">\n",
              "    <path d=\"M120-120v-720h720v720H120Zm60-500h600v-160H180v160Zm220 220h160v-160H400v160Zm0 220h160v-160H400v160ZM180-400h160v-160H180v160Zm440 0h160v-160H620v160ZM180-180h160v-160H180v160Zm440 0h160v-160H620v160Z\"/>\n",
              "  </svg>\n",
              "    </button>\n",
              "\n",
              "  <style>\n",
              "    .colab-df-container {\n",
              "      display:flex;\n",
              "      gap: 12px;\n",
              "    }\n",
              "\n",
              "    .colab-df-convert {\n",
              "      background-color: #E8F0FE;\n",
              "      border: none;\n",
              "      border-radius: 50%;\n",
              "      cursor: pointer;\n",
              "      display: none;\n",
              "      fill: #1967D2;\n",
              "      height: 32px;\n",
              "      padding: 0 0 0 0;\n",
              "      width: 32px;\n",
              "    }\n",
              "\n",
              "    .colab-df-convert:hover {\n",
              "      background-color: #E2EBFA;\n",
              "      box-shadow: 0px 1px 2px rgba(60, 64, 67, 0.3), 0px 1px 3px 1px rgba(60, 64, 67, 0.15);\n",
              "      fill: #174EA6;\n",
              "    }\n",
              "\n",
              "    .colab-df-buttons div {\n",
              "      margin-bottom: 4px;\n",
              "    }\n",
              "\n",
              "    [theme=dark] .colab-df-convert {\n",
              "      background-color: #3B4455;\n",
              "      fill: #D2E3FC;\n",
              "    }\n",
              "\n",
              "    [theme=dark] .colab-df-convert:hover {\n",
              "      background-color: #434B5C;\n",
              "      box-shadow: 0px 1px 3px 1px rgba(0, 0, 0, 0.15);\n",
              "      filter: drop-shadow(0px 1px 2px rgba(0, 0, 0, 0.3));\n",
              "      fill: #FFFFFF;\n",
              "    }\n",
              "  </style>\n",
              "\n",
              "    <script>\n",
              "      const buttonEl =\n",
              "        document.querySelector('#df-81eb5858-1954-4aa8-8ac9-2f58e120bc2c button.colab-df-convert');\n",
              "      buttonEl.style.display =\n",
              "        google.colab.kernel.accessAllowed ? 'block' : 'none';\n",
              "\n",
              "      async function convertToInteractive(key) {\n",
              "        const element = document.querySelector('#df-81eb5858-1954-4aa8-8ac9-2f58e120bc2c');\n",
              "        const dataTable =\n",
              "          await google.colab.kernel.invokeFunction('convertToInteractive',\n",
              "                                                    [key], {});\n",
              "        if (!dataTable) return;\n",
              "\n",
              "        const docLinkHtml = 'Like what you see? Visit the ' +\n",
              "          '<a target=\"_blank\" href=https://colab.research.google.com/notebooks/data_table.ipynb>data table notebook</a>'\n",
              "          + ' to learn more about interactive tables.';\n",
              "        element.innerHTML = '';\n",
              "        dataTable['output_type'] = 'display_data';\n",
              "        await google.colab.output.renderOutput(dataTable, element);\n",
              "        const docLink = document.createElement('div');\n",
              "        docLink.innerHTML = docLinkHtml;\n",
              "        element.appendChild(docLink);\n",
              "      }\n",
              "    </script>\n",
              "  </div>\n",
              "\n",
              "\n",
              "<div id=\"df-a4cae046-168d-4341-af0a-fe26c91554f4\">\n",
              "  <button class=\"colab-df-quickchart\" onclick=\"quickchart('df-a4cae046-168d-4341-af0a-fe26c91554f4')\"\n",
              "            title=\"Suggest charts\"\n",
              "            style=\"display:none;\">\n",
              "\n",
              "<svg xmlns=\"http://www.w3.org/2000/svg\" height=\"24px\"viewBox=\"0 0 24 24\"\n",
              "     width=\"24px\">\n",
              "    <g>\n",
              "        <path d=\"M19 3H5c-1.1 0-2 .9-2 2v14c0 1.1.9 2 2 2h14c1.1 0 2-.9 2-2V5c0-1.1-.9-2-2-2zM9 17H7v-7h2v7zm4 0h-2V7h2v10zm4 0h-2v-4h2v4z\"/>\n",
              "    </g>\n",
              "</svg>\n",
              "  </button>\n",
              "\n",
              "<style>\n",
              "  .colab-df-quickchart {\n",
              "      --bg-color: #E8F0FE;\n",
              "      --fill-color: #1967D2;\n",
              "      --hover-bg-color: #E2EBFA;\n",
              "      --hover-fill-color: #174EA6;\n",
              "      --disabled-fill-color: #AAA;\n",
              "      --disabled-bg-color: #DDD;\n",
              "  }\n",
              "\n",
              "  [theme=dark] .colab-df-quickchart {\n",
              "      --bg-color: #3B4455;\n",
              "      --fill-color: #D2E3FC;\n",
              "      --hover-bg-color: #434B5C;\n",
              "      --hover-fill-color: #FFFFFF;\n",
              "      --disabled-bg-color: #3B4455;\n",
              "      --disabled-fill-color: #666;\n",
              "  }\n",
              "\n",
              "  .colab-df-quickchart {\n",
              "    background-color: var(--bg-color);\n",
              "    border: none;\n",
              "    border-radius: 50%;\n",
              "    cursor: pointer;\n",
              "    display: none;\n",
              "    fill: var(--fill-color);\n",
              "    height: 32px;\n",
              "    padding: 0;\n",
              "    width: 32px;\n",
              "  }\n",
              "\n",
              "  .colab-df-quickchart:hover {\n",
              "    background-color: var(--hover-bg-color);\n",
              "    box-shadow: 0 1px 2px rgba(60, 64, 67, 0.3), 0 1px 3px 1px rgba(60, 64, 67, 0.15);\n",
              "    fill: var(--button-hover-fill-color);\n",
              "  }\n",
              "\n",
              "  .colab-df-quickchart-complete:disabled,\n",
              "  .colab-df-quickchart-complete:disabled:hover {\n",
              "    background-color: var(--disabled-bg-color);\n",
              "    fill: var(--disabled-fill-color);\n",
              "    box-shadow: none;\n",
              "  }\n",
              "\n",
              "  .colab-df-spinner {\n",
              "    border: 2px solid var(--fill-color);\n",
              "    border-color: transparent;\n",
              "    border-bottom-color: var(--fill-color);\n",
              "    animation:\n",
              "      spin 1s steps(1) infinite;\n",
              "  }\n",
              "\n",
              "  @keyframes spin {\n",
              "    0% {\n",
              "      border-color: transparent;\n",
              "      border-bottom-color: var(--fill-color);\n",
              "      border-left-color: var(--fill-color);\n",
              "    }\n",
              "    20% {\n",
              "      border-color: transparent;\n",
              "      border-left-color: var(--fill-color);\n",
              "      border-top-color: var(--fill-color);\n",
              "    }\n",
              "    30% {\n",
              "      border-color: transparent;\n",
              "      border-left-color: var(--fill-color);\n",
              "      border-top-color: var(--fill-color);\n",
              "      border-right-color: var(--fill-color);\n",
              "    }\n",
              "    40% {\n",
              "      border-color: transparent;\n",
              "      border-right-color: var(--fill-color);\n",
              "      border-top-color: var(--fill-color);\n",
              "    }\n",
              "    60% {\n",
              "      border-color: transparent;\n",
              "      border-right-color: var(--fill-color);\n",
              "    }\n",
              "    80% {\n",
              "      border-color: transparent;\n",
              "      border-right-color: var(--fill-color);\n",
              "      border-bottom-color: var(--fill-color);\n",
              "    }\n",
              "    90% {\n",
              "      border-color: transparent;\n",
              "      border-bottom-color: var(--fill-color);\n",
              "    }\n",
              "  }\n",
              "</style>\n",
              "\n",
              "  <script>\n",
              "    async function quickchart(key) {\n",
              "      const quickchartButtonEl =\n",
              "        document.querySelector('#' + key + ' button');\n",
              "      quickchartButtonEl.disabled = true;  // To prevent multiple clicks.\n",
              "      quickchartButtonEl.classList.add('colab-df-spinner');\n",
              "      try {\n",
              "        const charts = await google.colab.kernel.invokeFunction(\n",
              "            'suggestCharts', [key], {});\n",
              "      } catch (error) {\n",
              "        console.error('Error during call to suggestCharts:', error);\n",
              "      }\n",
              "      quickchartButtonEl.classList.remove('colab-df-spinner');\n",
              "      quickchartButtonEl.classList.add('colab-df-quickchart-complete');\n",
              "    }\n",
              "    (() => {\n",
              "      let quickchartButtonEl =\n",
              "        document.querySelector('#df-a4cae046-168d-4341-af0a-fe26c91554f4 button');\n",
              "      quickchartButtonEl.style.display =\n",
              "        google.colab.kernel.accessAllowed ? 'block' : 'none';\n",
              "    })();\n",
              "  </script>\n",
              "</div>\n",
              "\n",
              "    </div>\n",
              "  </div>\n"
            ],
            "application/vnd.google.colaboratory.intrinsic+json": {
              "type": "dataframe",
              "variable_name": "USState_Codes_df",
              "summary": "{\n  \"name\": \"USState_Codes_df\",\n  \"rows\": 62,\n  \"fields\": [\n    {\n      \"column\": \"US_State\",\n      \"properties\": {\n        \"dtype\": \"string\",\n        \"num_unique_values\": 62,\n        \"samples\": [\n          \"American Samoa\",\n          \"Puerto Rico\",\n          \"Alabama\"\n        ],\n        \"semantic_type\": \"\",\n        \"description\": \"\"\n      }\n    },\n    {\n      \"column\": \"Abbreviation\",\n      \"properties\": {\n        \"dtype\": \"string\",\n        \"num_unique_values\": 62,\n        \"samples\": [\n          \"AS\",\n          \"PR\",\n          \"AL\"\n        ],\n        \"semantic_type\": \"\",\n        \"description\": \"\"\n      }\n    }\n  ]\n}"
            }
          },
          "metadata": {},
          "execution_count": 91
        }
      ],
      "source": [
        "#displaying the first few rows of\n",
        "USState_Codes_df.head()"
      ]
    },
    {
      "cell_type": "markdown",
      "id": "5e3f2e7d-790f-46c9-bc27-c9e4bbe92f96",
      "metadata": {
        "id": "5e3f2e7d-790f-46c9-bc27-c9e4bbe92f96"
      },
      "source": [
        "Let's get a summary information of the DataFrames"
      ]
    },
    {
      "cell_type": "code",
      "execution_count": null,
      "id": "53db91c2-ae46-4323-90c2-10da6ddf8a07",
      "metadata": {
        "colab": {
          "base_uri": "https://localhost:8080/"
        },
        "id": "53db91c2-ae46-4323-90c2-10da6ddf8a07",
        "outputId": "5babeab9-2172-43c7-be74-e65d78442a7b"
      },
      "outputs": [
        {
          "output_type": "stream",
          "name": "stdout",
          "text": [
            "<class 'pandas.core.frame.DataFrame'>\n",
            "RangeIndex: 88889 entries, 0 to 88888\n",
            "Data columns (total 31 columns):\n",
            " #   Column                  Non-Null Count  Dtype  \n",
            "---  ------                  --------------  -----  \n",
            " 0   Event.Id                88889 non-null  object \n",
            " 1   Investigation.Type      88889 non-null  object \n",
            " 2   Accident.Number         88889 non-null  object \n",
            " 3   Event.Date              88889 non-null  object \n",
            " 4   Location                88837 non-null  object \n",
            " 5   Country                 88663 non-null  object \n",
            " 6   Latitude                34382 non-null  object \n",
            " 7   Longitude               34373 non-null  object \n",
            " 8   Airport.Code            50132 non-null  object \n",
            " 9   Airport.Name            52704 non-null  object \n",
            " 10  Injury.Severity         87889 non-null  object \n",
            " 11  Aircraft.damage         85695 non-null  object \n",
            " 12  Aircraft.Category       32287 non-null  object \n",
            " 13  Registration.Number     87507 non-null  object \n",
            " 14  Make                    88826 non-null  object \n",
            " 15  Model                   88797 non-null  object \n",
            " 16  Amateur.Built           88787 non-null  object \n",
            " 17  Number.of.Engines       82805 non-null  float64\n",
            " 18  Engine.Type             81793 non-null  object \n",
            " 19  FAR.Description         32023 non-null  object \n",
            " 20  Schedule                12582 non-null  object \n",
            " 21  Purpose.of.flight       82697 non-null  object \n",
            " 22  Air.carrier             16648 non-null  object \n",
            " 23  Total.Fatal.Injuries    77488 non-null  float64\n",
            " 24  Total.Serious.Injuries  76379 non-null  float64\n",
            " 25  Total.Minor.Injuries    76956 non-null  float64\n",
            " 26  Total.Uninjured         82977 non-null  float64\n",
            " 27  Weather.Condition       84397 non-null  object \n",
            " 28  Broad.phase.of.flight   61724 non-null  object \n",
            " 29  Report.Status           82505 non-null  object \n",
            " 30  Publication.Date        75118 non-null  object \n",
            "dtypes: float64(5), object(26)\n",
            "memory usage: 21.0+ MB\n"
          ]
        }
      ],
      "source": [
        "#Displaying the summary information of AviationData_df\n",
        "AviationData_df.info()"
      ]
    },
    {
      "cell_type": "markdown",
      "id": "ac827282-aad5-4e0d-bb12-5c4d75d6477c",
      "metadata": {
        "id": "ac827282-aad5-4e0d-bb12-5c4d75d6477c"
      },
      "source": [
        "Inspecting the dataset above, there are several columns that contain missing values. There is also incosistency in data types such as Latitude,Longitude and Number.of.Engines that are of  type object but they should be numerical type(float or int). The Event.Date and Publication.Date are also of type object.These should be converted to datetime to facilitate date-related analyses."
      ]
    },
    {
      "cell_type": "markdown",
      "id": "79755ce9-6394-4a56-abb2-a68f1a5c6c17",
      "metadata": {
        "id": "79755ce9-6394-4a56-abb2-a68f1a5c6c17"
      },
      "source": [
        "# **Dealing with Missing Values**\n",
        "\n",
        "For categorical Columns consider filling them with default values(Unknown) or dropping rows and columns with excessive missing columns\n",
        "\n",
        "For numeric columns imputing them with summary statistics(mean,median,mode)"
      ]
    },
    {
      "cell_type": "code",
      "execution_count": null,
      "id": "c3a87db6-1e71-4f9e-96dc-3d92a991b96f",
      "metadata": {
        "colab": {
          "base_uri": "https://localhost:8080/"
        },
        "id": "c3a87db6-1e71-4f9e-96dc-3d92a991b96f",
        "outputId": "38497330-3fef-4a76-9ae6-f29c68d98c0d"
      },
      "outputs": [
        {
          "output_type": "stream",
          "name": "stdout",
          "text": [
            "<class 'pandas.core.frame.DataFrame'>\n",
            "RangeIndex: 88889 entries, 0 to 88888\n",
            "Data columns (total 23 columns):\n",
            " #   Column                  Non-Null Count  Dtype  \n",
            "---  ------                  --------------  -----  \n",
            " 0   Event.Id                88889 non-null  object \n",
            " 1   Investigation.Type      88889 non-null  object \n",
            " 2   Accident.Number         88889 non-null  object \n",
            " 3   Event.Date              88889 non-null  object \n",
            " 4   Location                88837 non-null  object \n",
            " 5   Country                 88663 non-null  object \n",
            " 6   Injury.Severity         87889 non-null  object \n",
            " 7   Aircraft.damage         85695 non-null  object \n",
            " 8   Registration.Number     87507 non-null  object \n",
            " 9   Make                    88826 non-null  object \n",
            " 10  Model                   88797 non-null  object \n",
            " 11  Amateur.Built           88787 non-null  object \n",
            " 12  Number.of.Engines       82805 non-null  float64\n",
            " 13  Engine.Type             81793 non-null  object \n",
            " 14  Purpose.of.flight       82697 non-null  object \n",
            " 15  Total.Fatal.Injuries    77488 non-null  float64\n",
            " 16  Total.Serious.Injuries  76379 non-null  float64\n",
            " 17  Total.Minor.Injuries    76956 non-null  float64\n",
            " 18  Total.Uninjured         82977 non-null  float64\n",
            " 19  Weather.Condition       84397 non-null  object \n",
            " 20  Broad.phase.of.flight   61724 non-null  object \n",
            " 21  Report.Status           82505 non-null  object \n",
            " 22  Publication.Date        75118 non-null  object \n",
            "dtypes: float64(5), object(18)\n",
            "memory usage: 15.6+ MB\n"
          ]
        }
      ],
      "source": [
        "#dropping columns with excessive missing columns\n",
        "#defining columns to drop\n",
        "columns_to_drop = ['Latitude', 'Longitude', 'Aircraft.Category', 'FAR.Description', 'Schedule', 'Air.carrier', 'Airport.Code','Airport.Name']\n",
        "\n",
        "# Filter the columns to drop to include only those that exist in the DataFrame\n",
        "columns_to_drop = [col for col in columns_to_drop if col in AviationData_df.columns]\n",
        "\n",
        "# Drop the specified columns from the DataFrame if they exist\n",
        "AviationData_df = AviationData_df.drop(columns=columns_to_drop)\n",
        "AviationData_df.info() #checking if the columns with excessive missing values have been dropped\n",
        "\n"
      ]
    },
    {
      "cell_type": "code",
      "execution_count": null,
      "id": "b8914915-ba41-4103-b980-b6789afcbb9c",
      "metadata": {
        "id": "b8914915-ba41-4103-b980-b6789afcbb9c"
      },
      "outputs": [],
      "source": [
        "#imputing missing values in Registration Number with Unknown\n",
        "AviationData_df['Registration.Number'] = AviationData_df['Registration.Number'].fillna('Unknown')\n"
      ]
    },
    {
      "cell_type": "code",
      "execution_count": null,
      "id": "4d2eb2a8-41d3-4a9e-a2ff-ab42dd5d386b",
      "metadata": {
        "id": "4d2eb2a8-41d3-4a9e-a2ff-ab42dd5d386b"
      },
      "outputs": [],
      "source": [
        "#filling Nat values in Publication.Date with a specific placeholder (1990-01-01)\n",
        "AviationData_df['Publication.Date'] = AviationData_df['Publication.Date'].fillna(pd.Timestamp('1990-01-01'))\n",
        "\n"
      ]
    },
    {
      "cell_type": "code",
      "execution_count": null,
      "id": "8a517ff4-69f3-4735-8e51-c426bd1352dc",
      "metadata": {
        "id": "8a517ff4-69f3-4735-8e51-c426bd1352dc"
      },
      "outputs": [],
      "source": [
        "# Fill missing values in Report.Status with the most frequent value (mode)\n",
        "most_frequent_value = AviationData_df['Report.Status'].mode()[0]\n",
        "AviationData_df['Report.Status'] = AviationData_df['Report.Status'].fillna(most_frequent_value)\n"
      ]
    },
    {
      "cell_type": "code",
      "execution_count": null,
      "id": "40845ee6-0f4c-4168-b154-56a0159a4afa",
      "metadata": {
        "id": "40845ee6-0f4c-4168-b154-56a0159a4afa"
      },
      "outputs": [],
      "source": [
        "#Filling missing values in Broad.phase.of.flight with a placeholder string  Uknown\n",
        "AviationData_df['Broad.phase.of.flight']=  AviationData_df['Broad.phase.of.flight'].fillna('Unknown')"
      ]
    },
    {
      "cell_type": "code",
      "execution_count": null,
      "id": "b598396d-cde3-4a94-a0da-324beed8b3d7",
      "metadata": {
        "id": "b598396d-cde3-4a94-a0da-324beed8b3d7"
      },
      "outputs": [],
      "source": [
        "#calculating the median of Total.Minor.Injuries\n",
        "median_value = AviationData_df['Total.Minor.Injuries'].median()\n",
        "#Imputing missing  in Total.Minor.Injuries values with median\n",
        "AviationData_df['Total.Minor.Injuries']=  AviationData_df['Total.Minor.Injuries'].fillna(median_value)\n"
      ]
    },
    {
      "cell_type": "code",
      "execution_count": null,
      "id": "863c2f4a-fa8e-45ff-a562-754622a00e88",
      "metadata": {
        "id": "863c2f4a-fa8e-45ff-a562-754622a00e88"
      },
      "outputs": [],
      "source": [
        "#calculating the median of Total.Fatal.Injuries\n",
        "median_value = AviationData_df['Total.Fatal.Injuries'].median()\n",
        "#Imputing missing values in Total.Fatal.Injuries with median\n",
        "AviationData_df['Total.Fatal.Injuries']=  AviationData_df['Total.Fatal.Injuries'].fillna(median_value)\n"
      ]
    },
    {
      "cell_type": "code",
      "execution_count": null,
      "id": "4778fe5c-af97-4ba5-8d15-f513ff6e139b",
      "metadata": {
        "id": "4778fe5c-af97-4ba5-8d15-f513ff6e139b"
      },
      "outputs": [],
      "source": [
        "#Filling missing values in Purpose.of.flight with a placeholder string  Uknown\n",
        "AviationData_df['Purpose.of.flight']=  AviationData_df['Purpose.of.flight'].fillna('Unknown')"
      ]
    },
    {
      "cell_type": "code",
      "execution_count": null,
      "id": "333f6972-e3c7-46da-8c62-c4080f67e1d0",
      "metadata": {
        "id": "333f6972-e3c7-46da-8c62-c4080f67e1d0"
      },
      "outputs": [],
      "source": [
        "# Fill missing values in Engine.Type with the most frequent value (mode)\n",
        "most_frequent_value = AviationData_df['Engine.Type'].mode()[0]\n",
        "AviationData_df['Engine.Type'] = AviationData_df['Engine.Type'].fillna(most_frequent_value)\n"
      ]
    },
    {
      "cell_type": "code",
      "execution_count": null,
      "id": "c525badb-8c18-42f0-9ea3-7754958fe80b",
      "metadata": {
        "id": "c525badb-8c18-42f0-9ea3-7754958fe80b"
      },
      "outputs": [],
      "source": [
        "#imputing missing values in the Number.of.Engines column with median\n",
        "#calculating the mean of Number.of.Engines\n",
        "median_value = AviationData_df['Number.of.Engines'].median()\n",
        "#Imputing missing values with median\n",
        "AviationData_df['Number.of.Engines']=  AviationData_df['Number.of.Engines'].fillna(median_value)\n"
      ]
    },
    {
      "cell_type": "code",
      "execution_count": null,
      "id": "8e7067b7-77c4-481c-8c56-a1970abd660b",
      "metadata": {
        "id": "8e7067b7-77c4-481c-8c56-a1970abd660b"
      },
      "outputs": [],
      "source": [
        "# Fill missing values in Amateur.Built with the most frequent value (mode)\n",
        "most_frequent_value = AviationData_df['Amateur.Built'].mode()[0]\n",
        "AviationData_df['Amateur.Built'] = AviationData_df['Amateur.Built'].fillna(most_frequent_value)\n"
      ]
    },
    {
      "cell_type": "code",
      "execution_count": null,
      "id": "cbaa0fe7-9bb8-4dc6-9b59-14b45518a268",
      "metadata": {
        "id": "cbaa0fe7-9bb8-4dc6-9b59-14b45518a268"
      },
      "outputs": [],
      "source": [
        "#Filling missing values in Model with a placeholder string  Uknown\n",
        "AviationData_df['Model']=  AviationData_df['Model'].fillna('Unknown')"
      ]
    },
    {
      "cell_type": "code",
      "execution_count": null,
      "id": "102af3bf-f48c-4b6a-bc70-810224537785",
      "metadata": {
        "id": "102af3bf-f48c-4b6a-bc70-810224537785"
      },
      "outputs": [],
      "source": [
        "#Filling missing values in Make with a placeholder string  Uknown\n",
        "AviationData_df['Make']=  AviationData_df['Make'].fillna('Unknown')"
      ]
    },
    {
      "cell_type": "code",
      "execution_count": null,
      "id": "96a7a72a-68d9-4181-865b-6faaf6ab79fe",
      "metadata": {
        "id": "96a7a72a-68d9-4181-865b-6faaf6ab79fe"
      },
      "outputs": [],
      "source": [
        "#imputing missing values in the Aircraft.damage column with mode\n",
        "#calculating the mode of Aircraft.damage\n",
        "most_frequent_value = AviationData_df['Aircraft.damage'].mode()[0]\n",
        "AviationData_df['Aircraft.damage'] = AviationData_df['Aircraft.damage'].fillna(most_frequent_value)"
      ]
    },
    {
      "cell_type": "code",
      "execution_count": null,
      "id": "df34c752-ca0f-42d2-a7dd-16c813de3b2a",
      "metadata": {
        "id": "df34c752-ca0f-42d2-a7dd-16c813de3b2a"
      },
      "outputs": [],
      "source": [
        "#imputing missing values in the Injury.Severity column with mode\n",
        "#calculating the mode of Injury.Severity\n",
        "most_frequent_value = AviationData_df['Injury.Severity'].mode()[0]\n",
        "AviationData_df['Injury.Severity'] = AviationData_df['Injury.Severity'].fillna(most_frequent_value)"
      ]
    },
    {
      "cell_type": "code",
      "execution_count": null,
      "id": "5bb7dc40-df0e-492d-b5c4-175c34d373a2",
      "metadata": {
        "id": "5bb7dc40-df0e-492d-b5c4-175c34d373a2"
      },
      "outputs": [],
      "source": [
        "#Filling missing values with a placeholder string United States\n",
        "AviationData_df['Country']=  AviationData_df['Country'].fillna('United States')"
      ]
    },
    {
      "cell_type": "code",
      "execution_count": null,
      "id": "c3e4789f-74dc-45bf-8703-3b040dd2aeb6",
      "metadata": {
        "id": "c3e4789f-74dc-45bf-8703-3b040dd2aeb6"
      },
      "outputs": [],
      "source": [
        "#Filling missing values with a placeholder string like Uknown\n",
        "AviationData_df['Location'] =  AviationData_df['Location'].fillna('Unknown')"
      ]
    },
    {
      "cell_type": "code",
      "execution_count": null,
      "id": "d5703173-0fdc-4d35-89b8-ad6bd797b629",
      "metadata": {
        "id": "d5703173-0fdc-4d35-89b8-ad6bd797b629"
      },
      "outputs": [],
      "source": [
        "#imputing missing values in the Total.Serious.Injuries column with mean\n",
        "#calculating the mean of Total.Serious.Injuries\n",
        "mean_value = AviationData_df['Total.Serious.Injuries'].mean()\n",
        "#Imputing missing values with median\n",
        "AviationData_df['Total.Serious.Injuries']=  AviationData_df['Total.Serious.Injuries'].fillna(mean_value)\n"
      ]
    },
    {
      "cell_type": "code",
      "execution_count": null,
      "id": "890a9ce0-390d-49b6-a339-ec2aac21bd69",
      "metadata": {
        "id": "890a9ce0-390d-49b6-a339-ec2aac21bd69"
      },
      "outputs": [],
      "source": [
        "#imputing missing values in the Total.Uninjured column with mean\n",
        "#calculating the mean of Total.Uninjured\n",
        "mean_value = AviationData_df['Total.Uninjured'].mean()\n",
        "#Imputing missing values with median\n",
        "AviationData_df['Total.Uninjured']=  AviationData_df['Total.Uninjured'].fillna(mean_value)\n"
      ]
    },
    {
      "cell_type": "code",
      "execution_count": null,
      "id": "b523b4f7-35b9-4726-af79-33660a66238b",
      "metadata": {
        "id": "b523b4f7-35b9-4726-af79-33660a66238b"
      },
      "outputs": [],
      "source": [
        "#imputing missing values in the Weather.Condition column with mode\n",
        "#calculating the mode of Weather.Condition\n",
        "most_frequent_value = AviationData_df['Weather.Condition'].mode()[0]\n",
        "AviationData_df['Weather.Condition'] = AviationData_df['Weather.Condition'].fillna(most_frequent_value)"
      ]
    },
    {
      "cell_type": "markdown",
      "id": "f3a390e5-8d08-4ed9-a1d3-510806d02342",
      "metadata": {
        "id": "f3a390e5-8d08-4ed9-a1d3-510806d02342"
      },
      "source": [
        "# **Converting Object Types:**\n",
        "\n",
        "Convert date columns (Event.Date and Publication.Date) to datetime format:"
      ]
    },
    {
      "cell_type": "code",
      "execution_count": null,
      "id": "1ea05bb6-a236-4d33-99e3-5d97570d5011",
      "metadata": {
        "id": "1ea05bb6-a236-4d33-99e3-5d97570d5011"
      },
      "outputs": [],
      "source": [
        "#converting date columns to datetime format\n",
        "AviationData_df['Event.Date'] = pd.to_datetime(AviationData_df['Event.Date'],errors='coerce')\n",
        "AviationData_df['Publication.Date'] = pd.to_datetime(AviationData_df['Publication.Date'], errors='coerce')\n"
      ]
    },
    {
      "cell_type": "markdown",
      "id": "1f55be80-cddc-4e3e-88e2-d850fbc69cf0",
      "metadata": {
        "id": "1f55be80-cddc-4e3e-88e2-d850fbc69cf0"
      },
      "source": [
        "Convert Numeric Columns:\n",
        "\n",
        "Ensure that numeric columns are in the correct format (if any of them are stored as object):"
      ]
    },
    {
      "cell_type": "code",
      "execution_count": null,
      "id": "06c07895-70e8-464a-8103-f1827ee15906",
      "metadata": {
        "id": "06c07895-70e8-464a-8103-f1827ee15906"
      },
      "outputs": [],
      "source": [
        "# ensuring numeric columns are stored correctly\n",
        "numeric_columns = ['Number.of.Engines', 'Total.Fatal.Injuries', 'Total.Serious.Injuries',\n",
        "                   'Total.Minor.Injuries', 'Total.Uninjured']\n",
        "AviationData_df[numeric_columns] = AviationData_df[numeric_columns].apply(pd.to_numeric)"
      ]
    },
    {
      "cell_type": "code",
      "execution_count": null,
      "id": "17cc5c2e-2d6b-45ec-a553-4d27326b4a3a",
      "metadata": {
        "id": "17cc5c2e-2d6b-45ec-a553-4d27326b4a3a"
      },
      "outputs": [],
      "source": [
        "# Remove leading and trailing whitespaces in the 'Model' column\n",
        "AviationData_df['Model'] = AviationData_df['Model'].str.rstrip()\n"
      ]
    },
    {
      "cell_type": "code",
      "execution_count": null,
      "id": "ba3af676-8ded-42f0-886e-129c7d3e06ad",
      "metadata": {
        "id": "ba3af676-8ded-42f0-886e-129c7d3e06ad"
      },
      "outputs": [],
      "source": [
        "# Convert all values in the 'Location' column to uppercase\n",
        "AviationData_df['Location'] = AviationData_df['Location'].str.upper()"
      ]
    },
    {
      "cell_type": "code",
      "source": [
        "# Convert all values in the 'Make' column to uppercase\n",
        "AviationData_df['Make'] = AviationData_df['Make'].str.upper()"
      ],
      "metadata": {
        "id": "3uhCXW3UkvDS"
      },
      "id": "3uhCXW3UkvDS",
      "execution_count": null,
      "outputs": []
    },
    {
      "cell_type": "code",
      "source": [
        "# Convert all object columns to uppercase\n",
        "AviationData_df.loc[:, AviationData_df.select_dtypes(include='object').columns] = AviationData_df.select_dtypes(include='object').apply(lambda x: x.str.upper())\n"
      ],
      "metadata": {
        "id": "tkdJgiPClmnQ"
      },
      "id": "tkdJgiPClmnQ",
      "execution_count": null,
      "outputs": []
    },
    {
      "cell_type": "markdown",
      "source": [
        "Split the location column to have city and State Code"
      ],
      "metadata": {
        "id": "oKWtiDEvGsOR"
      },
      "id": "oKWtiDEvGsOR"
    },
    {
      "cell_type": "code",
      "source": [
        "# Ensure the 'Location' column is treated as a string and handle missing values\n",
        "AviationData_df['Location'] = AviationData_df['Location'].astype(str)\n",
        "\n",
        "# Split the 'Location' column into 'City' and 'State Code', filling NaN with empty strings\n",
        "AviationData_df[['City', 'State Code']] = AviationData_df['Location'].str.split(',', expand=True, n=1).fillna('')\n",
        "\n",
        "# Remove any leading or trailing whitespace from the new columns\n",
        "AviationData_df['City'] = AviationData_df['City'].str.strip()\n",
        "AviationData_df['State Code'] = AviationData_df['State Code'].str.strip()\n",
        "print(AviationData_df[['Location', 'City', 'State Code']].head())"
      ],
      "metadata": {
        "colab": {
          "base_uri": "https://localhost:8080/"
        },
        "id": "2Fa0EmziFBj9",
        "outputId": "03e85739-ad67-4ed2-d5c5-a7cb18cf9b57"
      },
      "id": "2Fa0EmziFBj9",
      "execution_count": null,
      "outputs": [
        {
          "output_type": "stream",
          "name": "stdout",
          "text": [
            "          Location         City State Code\n",
            "0  MOOSE CREEK, ID  MOOSE CREEK         ID\n",
            "1   BRIDGEPORT, CA   BRIDGEPORT         CA\n",
            "2    SALTVILLE, VA    SALTVILLE         VA\n",
            "3       EUREKA, CA       EUREKA         CA\n",
            "4       CANTON, OH       CANTON         OH\n"
          ]
        }
      ]
    },
    {
      "cell_type": "code",
      "source": [
        "# Drop the 'Location' column\n",
        "AviationData_df = AviationData_df.drop(columns=['Location'])"
      ],
      "metadata": {
        "id": "0wTJ0aEgFeqg"
      },
      "id": "0wTJ0aEgFeqg",
      "execution_count": null,
      "outputs": []
    },
    {
      "cell_type": "code",
      "source": [
        "AviationData_df.head()"
      ],
      "metadata": {
        "colab": {
          "base_uri": "https://localhost:8080/",
          "height": 360
        },
        "id": "eEdmnTlOFsru",
        "outputId": "cff4321f-d7c5-41fa-be1e-985a29d3d977"
      },
      "id": "eEdmnTlOFsru",
      "execution_count": null,
      "outputs": [
        {
          "output_type": "execute_result",
          "data": {
            "text/plain": [
              "         Event.Id Investigation.Type Accident.Number Event.Date  \\\n",
              "0  20001218X45444           ACCIDENT      SEA87LA080 1948-10-24   \n",
              "1  20001218X45447           ACCIDENT      LAX94LA336 1962-07-19   \n",
              "2  20061025X01555           ACCIDENT      NYC07LA005 1974-08-30   \n",
              "3  20001218X45448           ACCIDENT      LAX96LA321 1977-06-19   \n",
              "4  20041105X01764           ACCIDENT      CHI79FA064 1979-08-02   \n",
              "\n",
              "         Country Injury.Severity Aircraft.damage Registration.Number  \\\n",
              "0  UNITED STATES        FATAL(2)       DESTROYED              NC6404   \n",
              "1  UNITED STATES        FATAL(4)       DESTROYED              N5069P   \n",
              "2  UNITED STATES        FATAL(3)       DESTROYED              N5142R   \n",
              "3  UNITED STATES        FATAL(2)       DESTROYED              N1168J   \n",
              "4  UNITED STATES        FATAL(1)       DESTROYED               N15NY   \n",
              "\n",
              "       Make     Model  ... Total.Minor.Injuries  Total.Uninjured  \\\n",
              "0   STINSON     108-3  ...                  0.0          0.00000   \n",
              "1     PIPER  PA24-180  ...                  0.0          0.00000   \n",
              "2    CESSNA      172M  ...                  0.0          5.32544   \n",
              "3  ROCKWELL       112  ...                  0.0          0.00000   \n",
              "4    CESSNA       501  ...                  0.0          0.00000   \n",
              "\n",
              "  Weather.Condition Broad.phase.of.flight   Report.Status  Publication.Date  \\\n",
              "0               UNK                CRUISE  PROBABLE CAUSE        1990-01-01   \n",
              "1               UNK               UNKNOWN  PROBABLE CAUSE        1996-09-19   \n",
              "2               IMC                CRUISE  PROBABLE CAUSE        2007-02-26   \n",
              "3               IMC                CRUISE  PROBABLE CAUSE        2000-12-09   \n",
              "4               VMC              APPROACH  PROBABLE CAUSE        1980-04-16   \n",
              "\n",
              "   Total.Injuries  Year         City State Code  \n",
              "0        2.000000  1948  MOOSE CREEK         ID  \n",
              "1        4.000000  1962   BRIDGEPORT         CA  \n",
              "2        3.279881  1974    SALTVILLE         VA  \n",
              "3        2.000000  1977       EUREKA         CA  \n",
              "4        3.000000  1979       CANTON         OH  \n",
              "\n",
              "[5 rows x 26 columns]"
            ],
            "text/html": [
              "\n",
              "  <div id=\"df-fa7736e9-8d82-4ca2-84d0-d1fa8f0de50a\" class=\"colab-df-container\">\n",
              "    <div>\n",
              "<style scoped>\n",
              "    .dataframe tbody tr th:only-of-type {\n",
              "        vertical-align: middle;\n",
              "    }\n",
              "\n",
              "    .dataframe tbody tr th {\n",
              "        vertical-align: top;\n",
              "    }\n",
              "\n",
              "    .dataframe thead th {\n",
              "        text-align: right;\n",
              "    }\n",
              "</style>\n",
              "<table border=\"1\" class=\"dataframe\">\n",
              "  <thead>\n",
              "    <tr style=\"text-align: right;\">\n",
              "      <th></th>\n",
              "      <th>Event.Id</th>\n",
              "      <th>Investigation.Type</th>\n",
              "      <th>Accident.Number</th>\n",
              "      <th>Event.Date</th>\n",
              "      <th>Country</th>\n",
              "      <th>Injury.Severity</th>\n",
              "      <th>Aircraft.damage</th>\n",
              "      <th>Registration.Number</th>\n",
              "      <th>Make</th>\n",
              "      <th>Model</th>\n",
              "      <th>...</th>\n",
              "      <th>Total.Minor.Injuries</th>\n",
              "      <th>Total.Uninjured</th>\n",
              "      <th>Weather.Condition</th>\n",
              "      <th>Broad.phase.of.flight</th>\n",
              "      <th>Report.Status</th>\n",
              "      <th>Publication.Date</th>\n",
              "      <th>Total.Injuries</th>\n",
              "      <th>Year</th>\n",
              "      <th>City</th>\n",
              "      <th>State Code</th>\n",
              "    </tr>\n",
              "  </thead>\n",
              "  <tbody>\n",
              "    <tr>\n",
              "      <th>0</th>\n",
              "      <td>20001218X45444</td>\n",
              "      <td>ACCIDENT</td>\n",
              "      <td>SEA87LA080</td>\n",
              "      <td>1948-10-24</td>\n",
              "      <td>UNITED STATES</td>\n",
              "      <td>FATAL(2)</td>\n",
              "      <td>DESTROYED</td>\n",
              "      <td>NC6404</td>\n",
              "      <td>STINSON</td>\n",
              "      <td>108-3</td>\n",
              "      <td>...</td>\n",
              "      <td>0.0</td>\n",
              "      <td>0.00000</td>\n",
              "      <td>UNK</td>\n",
              "      <td>CRUISE</td>\n",
              "      <td>PROBABLE CAUSE</td>\n",
              "      <td>1990-01-01</td>\n",
              "      <td>2.000000</td>\n",
              "      <td>1948</td>\n",
              "      <td>MOOSE CREEK</td>\n",
              "      <td>ID</td>\n",
              "    </tr>\n",
              "    <tr>\n",
              "      <th>1</th>\n",
              "      <td>20001218X45447</td>\n",
              "      <td>ACCIDENT</td>\n",
              "      <td>LAX94LA336</td>\n",
              "      <td>1962-07-19</td>\n",
              "      <td>UNITED STATES</td>\n",
              "      <td>FATAL(4)</td>\n",
              "      <td>DESTROYED</td>\n",
              "      <td>N5069P</td>\n",
              "      <td>PIPER</td>\n",
              "      <td>PA24-180</td>\n",
              "      <td>...</td>\n",
              "      <td>0.0</td>\n",
              "      <td>0.00000</td>\n",
              "      <td>UNK</td>\n",
              "      <td>UNKNOWN</td>\n",
              "      <td>PROBABLE CAUSE</td>\n",
              "      <td>1996-09-19</td>\n",
              "      <td>4.000000</td>\n",
              "      <td>1962</td>\n",
              "      <td>BRIDGEPORT</td>\n",
              "      <td>CA</td>\n",
              "    </tr>\n",
              "    <tr>\n",
              "      <th>2</th>\n",
              "      <td>20061025X01555</td>\n",
              "      <td>ACCIDENT</td>\n",
              "      <td>NYC07LA005</td>\n",
              "      <td>1974-08-30</td>\n",
              "      <td>UNITED STATES</td>\n",
              "      <td>FATAL(3)</td>\n",
              "      <td>DESTROYED</td>\n",
              "      <td>N5142R</td>\n",
              "      <td>CESSNA</td>\n",
              "      <td>172M</td>\n",
              "      <td>...</td>\n",
              "      <td>0.0</td>\n",
              "      <td>5.32544</td>\n",
              "      <td>IMC</td>\n",
              "      <td>CRUISE</td>\n",
              "      <td>PROBABLE CAUSE</td>\n",
              "      <td>2007-02-26</td>\n",
              "      <td>3.279881</td>\n",
              "      <td>1974</td>\n",
              "      <td>SALTVILLE</td>\n",
              "      <td>VA</td>\n",
              "    </tr>\n",
              "    <tr>\n",
              "      <th>3</th>\n",
              "      <td>20001218X45448</td>\n",
              "      <td>ACCIDENT</td>\n",
              "      <td>LAX96LA321</td>\n",
              "      <td>1977-06-19</td>\n",
              "      <td>UNITED STATES</td>\n",
              "      <td>FATAL(2)</td>\n",
              "      <td>DESTROYED</td>\n",
              "      <td>N1168J</td>\n",
              "      <td>ROCKWELL</td>\n",
              "      <td>112</td>\n",
              "      <td>...</td>\n",
              "      <td>0.0</td>\n",
              "      <td>0.00000</td>\n",
              "      <td>IMC</td>\n",
              "      <td>CRUISE</td>\n",
              "      <td>PROBABLE CAUSE</td>\n",
              "      <td>2000-12-09</td>\n",
              "      <td>2.000000</td>\n",
              "      <td>1977</td>\n",
              "      <td>EUREKA</td>\n",
              "      <td>CA</td>\n",
              "    </tr>\n",
              "    <tr>\n",
              "      <th>4</th>\n",
              "      <td>20041105X01764</td>\n",
              "      <td>ACCIDENT</td>\n",
              "      <td>CHI79FA064</td>\n",
              "      <td>1979-08-02</td>\n",
              "      <td>UNITED STATES</td>\n",
              "      <td>FATAL(1)</td>\n",
              "      <td>DESTROYED</td>\n",
              "      <td>N15NY</td>\n",
              "      <td>CESSNA</td>\n",
              "      <td>501</td>\n",
              "      <td>...</td>\n",
              "      <td>0.0</td>\n",
              "      <td>0.00000</td>\n",
              "      <td>VMC</td>\n",
              "      <td>APPROACH</td>\n",
              "      <td>PROBABLE CAUSE</td>\n",
              "      <td>1980-04-16</td>\n",
              "      <td>3.000000</td>\n",
              "      <td>1979</td>\n",
              "      <td>CANTON</td>\n",
              "      <td>OH</td>\n",
              "    </tr>\n",
              "  </tbody>\n",
              "</table>\n",
              "<p>5 rows × 26 columns</p>\n",
              "</div>\n",
              "    <div class=\"colab-df-buttons\">\n",
              "\n",
              "  <div class=\"colab-df-container\">\n",
              "    <button class=\"colab-df-convert\" onclick=\"convertToInteractive('df-fa7736e9-8d82-4ca2-84d0-d1fa8f0de50a')\"\n",
              "            title=\"Convert this dataframe to an interactive table.\"\n",
              "            style=\"display:none;\">\n",
              "\n",
              "  <svg xmlns=\"http://www.w3.org/2000/svg\" height=\"24px\" viewBox=\"0 -960 960 960\">\n",
              "    <path d=\"M120-120v-720h720v720H120Zm60-500h600v-160H180v160Zm220 220h160v-160H400v160Zm0 220h160v-160H400v160ZM180-400h160v-160H180v160Zm440 0h160v-160H620v160ZM180-180h160v-160H180v160Zm440 0h160v-160H620v160Z\"/>\n",
              "  </svg>\n",
              "    </button>\n",
              "\n",
              "  <style>\n",
              "    .colab-df-container {\n",
              "      display:flex;\n",
              "      gap: 12px;\n",
              "    }\n",
              "\n",
              "    .colab-df-convert {\n",
              "      background-color: #E8F0FE;\n",
              "      border: none;\n",
              "      border-radius: 50%;\n",
              "      cursor: pointer;\n",
              "      display: none;\n",
              "      fill: #1967D2;\n",
              "      height: 32px;\n",
              "      padding: 0 0 0 0;\n",
              "      width: 32px;\n",
              "    }\n",
              "\n",
              "    .colab-df-convert:hover {\n",
              "      background-color: #E2EBFA;\n",
              "      box-shadow: 0px 1px 2px rgba(60, 64, 67, 0.3), 0px 1px 3px 1px rgba(60, 64, 67, 0.15);\n",
              "      fill: #174EA6;\n",
              "    }\n",
              "\n",
              "    .colab-df-buttons div {\n",
              "      margin-bottom: 4px;\n",
              "    }\n",
              "\n",
              "    [theme=dark] .colab-df-convert {\n",
              "      background-color: #3B4455;\n",
              "      fill: #D2E3FC;\n",
              "    }\n",
              "\n",
              "    [theme=dark] .colab-df-convert:hover {\n",
              "      background-color: #434B5C;\n",
              "      box-shadow: 0px 1px 3px 1px rgba(0, 0, 0, 0.15);\n",
              "      filter: drop-shadow(0px 1px 2px rgba(0, 0, 0, 0.3));\n",
              "      fill: #FFFFFF;\n",
              "    }\n",
              "  </style>\n",
              "\n",
              "    <script>\n",
              "      const buttonEl =\n",
              "        document.querySelector('#df-fa7736e9-8d82-4ca2-84d0-d1fa8f0de50a button.colab-df-convert');\n",
              "      buttonEl.style.display =\n",
              "        google.colab.kernel.accessAllowed ? 'block' : 'none';\n",
              "\n",
              "      async function convertToInteractive(key) {\n",
              "        const element = document.querySelector('#df-fa7736e9-8d82-4ca2-84d0-d1fa8f0de50a');\n",
              "        const dataTable =\n",
              "          await google.colab.kernel.invokeFunction('convertToInteractive',\n",
              "                                                    [key], {});\n",
              "        if (!dataTable) return;\n",
              "\n",
              "        const docLinkHtml = 'Like what you see? Visit the ' +\n",
              "          '<a target=\"_blank\" href=https://colab.research.google.com/notebooks/data_table.ipynb>data table notebook</a>'\n",
              "          + ' to learn more about interactive tables.';\n",
              "        element.innerHTML = '';\n",
              "        dataTable['output_type'] = 'display_data';\n",
              "        await google.colab.output.renderOutput(dataTable, element);\n",
              "        const docLink = document.createElement('div');\n",
              "        docLink.innerHTML = docLinkHtml;\n",
              "        element.appendChild(docLink);\n",
              "      }\n",
              "    </script>\n",
              "  </div>\n",
              "\n",
              "\n",
              "<div id=\"df-05b13cd2-723f-426a-bc11-9cd8c1b6d3fd\">\n",
              "  <button class=\"colab-df-quickchart\" onclick=\"quickchart('df-05b13cd2-723f-426a-bc11-9cd8c1b6d3fd')\"\n",
              "            title=\"Suggest charts\"\n",
              "            style=\"display:none;\">\n",
              "\n",
              "<svg xmlns=\"http://www.w3.org/2000/svg\" height=\"24px\"viewBox=\"0 0 24 24\"\n",
              "     width=\"24px\">\n",
              "    <g>\n",
              "        <path d=\"M19 3H5c-1.1 0-2 .9-2 2v14c0 1.1.9 2 2 2h14c1.1 0 2-.9 2-2V5c0-1.1-.9-2-2-2zM9 17H7v-7h2v7zm4 0h-2V7h2v10zm4 0h-2v-4h2v4z\"/>\n",
              "    </g>\n",
              "</svg>\n",
              "  </button>\n",
              "\n",
              "<style>\n",
              "  .colab-df-quickchart {\n",
              "      --bg-color: #E8F0FE;\n",
              "      --fill-color: #1967D2;\n",
              "      --hover-bg-color: #E2EBFA;\n",
              "      --hover-fill-color: #174EA6;\n",
              "      --disabled-fill-color: #AAA;\n",
              "      --disabled-bg-color: #DDD;\n",
              "  }\n",
              "\n",
              "  [theme=dark] .colab-df-quickchart {\n",
              "      --bg-color: #3B4455;\n",
              "      --fill-color: #D2E3FC;\n",
              "      --hover-bg-color: #434B5C;\n",
              "      --hover-fill-color: #FFFFFF;\n",
              "      --disabled-bg-color: #3B4455;\n",
              "      --disabled-fill-color: #666;\n",
              "  }\n",
              "\n",
              "  .colab-df-quickchart {\n",
              "    background-color: var(--bg-color);\n",
              "    border: none;\n",
              "    border-radius: 50%;\n",
              "    cursor: pointer;\n",
              "    display: none;\n",
              "    fill: var(--fill-color);\n",
              "    height: 32px;\n",
              "    padding: 0;\n",
              "    width: 32px;\n",
              "  }\n",
              "\n",
              "  .colab-df-quickchart:hover {\n",
              "    background-color: var(--hover-bg-color);\n",
              "    box-shadow: 0 1px 2px rgba(60, 64, 67, 0.3), 0 1px 3px 1px rgba(60, 64, 67, 0.15);\n",
              "    fill: var(--button-hover-fill-color);\n",
              "  }\n",
              "\n",
              "  .colab-df-quickchart-complete:disabled,\n",
              "  .colab-df-quickchart-complete:disabled:hover {\n",
              "    background-color: var(--disabled-bg-color);\n",
              "    fill: var(--disabled-fill-color);\n",
              "    box-shadow: none;\n",
              "  }\n",
              "\n",
              "  .colab-df-spinner {\n",
              "    border: 2px solid var(--fill-color);\n",
              "    border-color: transparent;\n",
              "    border-bottom-color: var(--fill-color);\n",
              "    animation:\n",
              "      spin 1s steps(1) infinite;\n",
              "  }\n",
              "\n",
              "  @keyframes spin {\n",
              "    0% {\n",
              "      border-color: transparent;\n",
              "      border-bottom-color: var(--fill-color);\n",
              "      border-left-color: var(--fill-color);\n",
              "    }\n",
              "    20% {\n",
              "      border-color: transparent;\n",
              "      border-left-color: var(--fill-color);\n",
              "      border-top-color: var(--fill-color);\n",
              "    }\n",
              "    30% {\n",
              "      border-color: transparent;\n",
              "      border-left-color: var(--fill-color);\n",
              "      border-top-color: var(--fill-color);\n",
              "      border-right-color: var(--fill-color);\n",
              "    }\n",
              "    40% {\n",
              "      border-color: transparent;\n",
              "      border-right-color: var(--fill-color);\n",
              "      border-top-color: var(--fill-color);\n",
              "    }\n",
              "    60% {\n",
              "      border-color: transparent;\n",
              "      border-right-color: var(--fill-color);\n",
              "    }\n",
              "    80% {\n",
              "      border-color: transparent;\n",
              "      border-right-color: var(--fill-color);\n",
              "      border-bottom-color: var(--fill-color);\n",
              "    }\n",
              "    90% {\n",
              "      border-color: transparent;\n",
              "      border-bottom-color: var(--fill-color);\n",
              "    }\n",
              "  }\n",
              "</style>\n",
              "\n",
              "  <script>\n",
              "    async function quickchart(key) {\n",
              "      const quickchartButtonEl =\n",
              "        document.querySelector('#' + key + ' button');\n",
              "      quickchartButtonEl.disabled = true;  // To prevent multiple clicks.\n",
              "      quickchartButtonEl.classList.add('colab-df-spinner');\n",
              "      try {\n",
              "        const charts = await google.colab.kernel.invokeFunction(\n",
              "            'suggestCharts', [key], {});\n",
              "      } catch (error) {\n",
              "        console.error('Error during call to suggestCharts:', error);\n",
              "      }\n",
              "      quickchartButtonEl.classList.remove('colab-df-spinner');\n",
              "      quickchartButtonEl.classList.add('colab-df-quickchart-complete');\n",
              "    }\n",
              "    (() => {\n",
              "      let quickchartButtonEl =\n",
              "        document.querySelector('#df-05b13cd2-723f-426a-bc11-9cd8c1b6d3fd button');\n",
              "      quickchartButtonEl.style.display =\n",
              "        google.colab.kernel.accessAllowed ? 'block' : 'none';\n",
              "    })();\n",
              "  </script>\n",
              "</div>\n",
              "\n",
              "    </div>\n",
              "  </div>\n"
            ],
            "application/vnd.google.colaboratory.intrinsic+json": {
              "type": "dataframe",
              "variable_name": "AviationData_df"
            }
          },
          "metadata": {},
          "execution_count": 87
        }
      ]
    },
    {
      "cell_type": "markdown",
      "id": "1f1603b2-f6b1-4377-bc0e-94788c4fc711",
      "metadata": {
        "id": "1f1603b2-f6b1-4377-bc0e-94788c4fc711"
      },
      "source": [
        "Let's check if there are any duplicates in AviationData_df"
      ]
    },
    {
      "cell_type": "code",
      "execution_count": null,
      "id": "3d13e3ab-1f5b-494f-9f0b-75a2c7d805fe",
      "metadata": {
        "colab": {
          "base_uri": "https://localhost:8080/",
          "height": 458
        },
        "id": "3d13e3ab-1f5b-494f-9f0b-75a2c7d805fe",
        "outputId": "7fc9dfe1-66be-432d-c140-c8df9e3f7b34"
      },
      "outputs": [
        {
          "output_type": "execute_result",
          "data": {
            "text/plain": [
              "0        False\n",
              "1        False\n",
              "2        False\n",
              "3        False\n",
              "4        False\n",
              "         ...  \n",
              "88884    False\n",
              "88885    False\n",
              "88886    False\n",
              "88887    False\n",
              "88888    False\n",
              "Length: 88889, dtype: bool"
            ],
            "text/html": [
              "<div>\n",
              "<style scoped>\n",
              "    .dataframe tbody tr th:only-of-type {\n",
              "        vertical-align: middle;\n",
              "    }\n",
              "\n",
              "    .dataframe tbody tr th {\n",
              "        vertical-align: top;\n",
              "    }\n",
              "\n",
              "    .dataframe thead th {\n",
              "        text-align: right;\n",
              "    }\n",
              "</style>\n",
              "<table border=\"1\" class=\"dataframe\">\n",
              "  <thead>\n",
              "    <tr style=\"text-align: right;\">\n",
              "      <th></th>\n",
              "      <th>0</th>\n",
              "    </tr>\n",
              "  </thead>\n",
              "  <tbody>\n",
              "    <tr>\n",
              "      <th>0</th>\n",
              "      <td>False</td>\n",
              "    </tr>\n",
              "    <tr>\n",
              "      <th>1</th>\n",
              "      <td>False</td>\n",
              "    </tr>\n",
              "    <tr>\n",
              "      <th>2</th>\n",
              "      <td>False</td>\n",
              "    </tr>\n",
              "    <tr>\n",
              "      <th>3</th>\n",
              "      <td>False</td>\n",
              "    </tr>\n",
              "    <tr>\n",
              "      <th>4</th>\n",
              "      <td>False</td>\n",
              "    </tr>\n",
              "    <tr>\n",
              "      <th>...</th>\n",
              "      <td>...</td>\n",
              "    </tr>\n",
              "    <tr>\n",
              "      <th>88884</th>\n",
              "      <td>False</td>\n",
              "    </tr>\n",
              "    <tr>\n",
              "      <th>88885</th>\n",
              "      <td>False</td>\n",
              "    </tr>\n",
              "    <tr>\n",
              "      <th>88886</th>\n",
              "      <td>False</td>\n",
              "    </tr>\n",
              "    <tr>\n",
              "      <th>88887</th>\n",
              "      <td>False</td>\n",
              "    </tr>\n",
              "    <tr>\n",
              "      <th>88888</th>\n",
              "      <td>False</td>\n",
              "    </tr>\n",
              "  </tbody>\n",
              "</table>\n",
              "<p>88889 rows × 1 columns</p>\n",
              "</div><br><label><b>dtype:</b> bool</label>"
            ]
          },
          "metadata": {},
          "execution_count": 30
        }
      ],
      "source": [
        "#checking if there are duplicates\n",
        "AviationData_df.duplicated()"
      ]
    },
    {
      "cell_type": "markdown",
      "source": [
        "Rename the Abbreviation column in the USStates_Code_df to be State Code"
      ],
      "metadata": {
        "id": "boD2W70RG9cx"
      },
      "id": "boD2W70RG9cx"
    },
    {
      "cell_type": "code",
      "source": [
        "# Rename the 'Abbreviation' column to 'State Code'\n",
        "USState_Codes_df = USState_Codes_df.rename(columns={'Abbreviation': 'State Code'})\n",
        "\n",
        "# Display the first few rows to confirm the change\n",
        "print(USState_Codes_df.head())"
      ],
      "metadata": {
        "colab": {
          "base_uri": "https://localhost:8080/"
        },
        "id": "jQMtQgMqHUlB",
        "outputId": "5762916b-afe0-499e-f125-0307132757f7"
      },
      "id": "jQMtQgMqHUlB",
      "execution_count": null,
      "outputs": [
        {
          "output_type": "stream",
          "name": "stdout",
          "text": [
            "     US_State State Code\n",
            "0     Alabama         AL\n",
            "1      Alaska         AK\n",
            "2     Arizona         AZ\n",
            "3    Arkansas         AR\n",
            "4  California         CA\n"
          ]
        }
      ]
    },
    {
      "cell_type": "markdown",
      "id": "3e2e4a1a-3ca9-4a0c-b76e-94d92dc20198",
      "metadata": {
        "id": "3e2e4a1a-3ca9-4a0c-b76e-94d92dc20198"
      },
      "source": [
        "Since there are no duplicates and our DataFrame is clean we can proceed to Visualization.\n",
        "\n",
        "# **Visualization**\n",
        "\n",
        "# Key Considerations:\n",
        "To determine which aircraft are the lowest risk based on the dataset and present actionable insights, here are some visualizations  to highlight risk factors and trends:\n"
      ]
    },
    {
      "cell_type": "markdown",
      "source": [
        "# **Total Fatal Injuries vs. Number of Engines**\n",
        "\n",
        "Visualization: A scatter plot showing the relationship between the number of engines and total fatal injuries\n",
        "\n",
        "Purpose: Explore whether the number of engines correlates with the number of fatal injuries.\n"
      ],
      "metadata": {
        "id": "DiD9DL9BTifX"
      },
      "id": "DiD9DL9BTifX"
    },
    {
      "cell_type": "code",
      "execution_count": null,
      "id": "kh-SSzlwPt5K",
      "metadata": {
        "colab": {
          "base_uri": "https://localhost:8080/",
          "height": 466
        },
        "id": "kh-SSzlwPt5K",
        "outputId": "89d2c0f0-04c2-4965-c3e8-abcd40122585"
      },
      "outputs": [
        {
          "output_type": "execute_result",
          "data": {
            "text/plain": [
              "<Axes: xlabel='Number.of.Engines', ylabel='Total.Fatal.Injuries'>"
            ]
          },
          "metadata": {},
          "execution_count": 63
        },
        {
          "output_type": "display_data",
          "data": {
            "text/plain": [
              "<Figure size 640x480 with 1 Axes>"
            ],
            "image/png": "[encoded data removed]"
          },
          "metadata": {}
        }
      ],
      "source": [
        "#plotting a scatter plot using seaborn\n",
        "sns.scatterplot(x='Number.of.Engines', y='Total.Fatal.Injuries', data=AviationData_df)"
      ]
    },
    {
      "cell_type": "code",
      "source": [
        "\"\"\"Aircraft with fewer engines  appear to be associated with a higher number of fatal injuries compared to those with 5 engines and above. This suggests that those with  4 engines and below aircraft might present a greater risk in the event of an accident. For the company’s expansion into aviation, investing in aircrafts with 5 engines and above could be a safer option, as they may offer greater reliability and safety in emergency situations.\n",
        "\"\"\""
      ],
      "metadata": {
        "colab": {
          "base_uri": "https://localhost:8080/",
          "height": 87
        },
        "id": "uT_JsZM7aZ_v",
        "outputId": "de904fe8-eb1f-4806-d455-2b911cdc975f"
      },
      "id": "uT_JsZM7aZ_v",
      "execution_count": null,
      "outputs": [
        {
          "output_type": "execute_result",
          "data": {
            "text/plain": [
              "'Aircraft with fewer engines  appear to be associated with a higher number of fatal injuries compared to those with 5 engines and above. This suggests that those with  4 engines and below aircraft might present a greater risk in the event of an accident. For the company’s expansion into aviation, investing in aircrafts with 5 engines and above could be a safer option, as they may offer greater reliability and safety in emergency situations.\\n'"
            ],
            "application/vnd.google.colaboratory.intrinsic+json": {
              "type": "string"
            }
          },
          "metadata": {},
          "execution_count": 52
        }
      ]
    },
    {
      "cell_type": "markdown",
      "source": [
        "# **Total Injuries by Purpose of Flight**\n",
        "\n",
        "Visualization:A bar chart comparing the number of total injuries by the purpose of flight\n",
        "\n",
        "Purpose: Compare the distribution of total injuries (Total.Fatal.Injuries, Total.Serious.Injuries, Total.Minor.Injuries) across different purposes of flight (commercial, private, etc.).\n",
        "\n",
        "Insight: Reveals whether private or commercial operations are associated with greater risk.\n"
      ],
      "metadata": {
        "id": "TNrVr-4saD0V"
      },
      "id": "TNrVr-4saD0V"
    },
    {
      "cell_type": "code",
      "execution_count": null,
      "id": "79ab7768-3fe7-4e27-9ac5-249a2a96af42",
      "metadata": {
        "id": "79ab7768-3fe7-4e27-9ac5-249a2a96af42",
        "colab": {
          "base_uri": "https://localhost:8080/",
          "height": 643
        },
        "outputId": "549cc5c0-8ef7-4b72-eca2-e4a2be9898da"
      },
      "outputs": [
        {
          "output_type": "display_data",
          "data": {
            "text/plain": [
              "<Figure size 1200x800 with 1 Axes>"
            ],
            "image/png": "[encoded data removed]"
          },
          "metadata": {}
        }
      ],
      "source": [
        " #creating new column for total injuries by summing fatal, serious, and minor injuries\n",
        "AviationData_df['Total.Injuries'] = (AviationData_df['Total.Fatal.Injuries'].fillna(0) +\n",
        "                                     AviationData_df['Total.Serious.Injuries'].fillna(0) +\n",
        "                                     AviationData_df['Total.Minor.Injuries'].fillna(0))\n",
        "\n",
        "# Group the data by 'Purpose.of.flight' and sum the total injuries\n",
        "injuries_by_flight_purpose = AviationData_df.groupby('Purpose.of.flight')['Total.Injuries'].sum()\n",
        "\n",
        "# Set figure size\n",
        "plt.figure(figsize=(12, 8))\n",
        "\n",
        "# Plot the bar chart\n",
        "injuries_by_flight_purpose.plot(kind='bar', color='skyblue')\n",
        "\n",
        "# Add title and labels\n",
        "plt.title('Total Injuries by Purpose of Flight', fontsize=16)\n",
        "plt.xlabel('Purpose of Flight', fontsize=12)\n",
        "plt.ylabel('Total Injuries', fontsize=12)\n",
        "\n",
        "# Rotate x-axis labels for better readability\n",
        "plt.xticks(rotation=45, ha='right')\n",
        "\n",
        "# Display the plot\n",
        "plt.tight_layout()\n",
        "plt.show()\n"
      ]
    },
    {
      "cell_type": "code",
      "source": [
        "\"\"\"\n",
        "Personal flights account for the majority of incidents, suggesting they may carry a higher risk compared to other flight purposes. This could be due to factors such as less stringent regulations, pilot experience, or operational conditions. The company should consider implementing stricter safety protocols or additional training for pilots involved in personal flights to mitigate this risk.\"\n",
        "\"\"\""
      ],
      "metadata": {
        "colab": {
          "base_uri": "https://localhost:8080/",
          "height": 87
        },
        "id": "RDmC5xQsZL-R",
        "outputId": "353d0e1c-6949-47a5-885d-caa46c718feb"
      },
      "id": "RDmC5xQsZL-R",
      "execution_count": null,
      "outputs": [
        {
          "output_type": "execute_result",
          "data": {
            "text/plain": [
              "'\\nPersonal flights account for the majority of incidents, suggesting they may carry a higher risk compared to other flight purposes. This could be due to factors such as less stringent regulations, pilot experience, or operational conditions. The company should consider implementing stricter safety protocols or additional training for pilots involved in personal flights to mitigate this risk.\"\\n'"
            ],
            "application/vnd.google.colaboratory.intrinsic+json": {
              "type": "string"
            }
          },
          "metadata": {},
          "execution_count": 50
        }
      ]
    },
    {
      "cell_type": "markdown",
      "source": [
        "# **Broad Phase of Flight at Time of Accident**\n",
        "\n",
        "Visualization: A bar chart displaying the phase of flight  when accidents occurred.\n",
        "\n",
        "Purpose: Identify the most risky phases of flight.\n",
        "\n",
        "Summary Statistics: Count of incidents by phase of flight.\n"
      ],
      "metadata": {
        "id": "7i8iQAqSdEqZ"
      },
      "id": "7i8iQAqSdEqZ"
    },
    {
      "cell_type": "code",
      "source": [
        "#plotting a bar graph using matplotlib.pyplot\n",
        "AviationData_df['Broad.phase.of.flight'].value_counts().plot(kind='bar', title='Incidents by Phase of Flight')\n"
      ],
      "metadata": {
        "colab": {
          "base_uri": "https://localhost:8080/",
          "height": 578
        },
        "id": "Kn_6T-vIN98a",
        "outputId": "e7fab26f-b578-483c-d252-7b99305b16e3"
      },
      "id": "Kn_6T-vIN98a",
      "execution_count": null,
      "outputs": [
        {
          "output_type": "execute_result",
          "data": {
            "text/plain": [
              "<Axes: title={'center': 'Incidents by Phase of Flight'}, xlabel='Broad.phase.of.flight'>"
            ]
          },
          "metadata": {},
          "execution_count": 65
        },
        {
          "output_type": "display_data",
          "data": {
            "text/plain": [
              "<Figure size 640x480 with 1 Axes>"
            ],
            "image/png": "[encoded data removed]"
          },
          "metadata": {}
        }
      ]
    },
    {
      "cell_type": "code",
      "source": [
        "\"\"\"The significant number of incidents classified under the unknown' broad phase of flight highlights a critical gap in data reporting and analysis. This suggests that when incidents occur without clear documentation of the flight phase, it complicates understanding the underlying causes and patterns. For effective risk management and safety improvements, the company should prioritize enhancing data collection and reporting practices, ensuring that all incidents are accurately categorized. This could lead to better insights into safety protocols and potentially reduce future incidents.\n",
        "\"\"\""
      ],
      "metadata": {
        "colab": {
          "base_uri": "https://localhost:8080/",
          "height": 105
        },
        "id": "Gct3BHercePs",
        "outputId": "58f2ff66-bea2-48a6-dc8b-27ed6a7cae86"
      },
      "id": "Gct3BHercePs",
      "execution_count": null,
      "outputs": [
        {
          "output_type": "execute_result",
          "data": {
            "text/plain": [
              "\"The significant number of incidents classified under the 'unknown' broad phase of flight highlights a critical gap in data reporting and analysis. This suggests that when incidents occur without clear documentation of the flight phase, it complicates understanding the underlying causes and patterns. For effective risk management and safety improvements, the company should prioritize enhancing data collection and reporting practices, ensuring that all incidents are accurately categorized. This could lead to better insights into safety protocols and potentially reduce future incidents.\\n\""
            ],
            "application/vnd.google.colaboratory.intrinsic+json": {
              "type": "string"
            }
          },
          "metadata": {},
          "execution_count": 53
        }
      ]
    },
    {
      "cell_type": "markdown",
      "source": [
        "# **Risk by Weather Condition**\n",
        "Visualization: A bar chart showing the proportion of accidents occurring under different weather conditions\n",
        "\n",
        "Purpose: Understand how weather affects aircraft risk.\n",
        "\n",
        "Summary Statistics: Count of incidents by weather condition.\n"
      ],
      "metadata": {
        "id": "dqvqjMI6fdIl"
      },
      "id": "dqvqjMI6fdIl"
    },
    {
      "cell_type": "code",
      "source": [
        "#plotting a bar chart using matplotlib.pyplot\n",
        "AviationData_df['Weather.Condition'].value_counts().plot(kind='bar', title='Incidents by Weather Condition')"
      ],
      "metadata": {
        "colab": {
          "base_uri": "https://localhost:8080/",
          "height": 506
        },
        "id": "s3gLVLpmPNJh",
        "outputId": "e8ad3312-4f7f-42a4-d653-aff1b5bda363"
      },
      "id": "s3gLVLpmPNJh",
      "execution_count": null,
      "outputs": [
        {
          "output_type": "execute_result",
          "data": {
            "text/plain": [
              "<Axes: title={'center': 'Incidents by Weather Condition'}, xlabel='Weather.Condition'>"
            ]
          },
          "metadata": {},
          "execution_count": 66
        },
        {
          "output_type": "display_data",
          "data": {
            "text/plain": [
              "<Figure size 640x480 with 1 Axes>"
            ],
            "image/png": "[encoded data removed]"
          },
          "metadata": {}
        }
      ]
    },
    {
      "cell_type": "code",
      "source": [
        "\"\"\"\n",
        "The analysis of incidents by weather condition indicates that  weather conditions such as VMC, correlates with a higher incidence of aircraft accidents. This finding underscores the importance of incorporating weather-related risk assessments into operational planning and decision-making. For the company, it may be prudent to establish stricter guidelines for flight operations during adverse weather conditions and ensure pilots receive adequate training to handle flights in challenging weather. Additionally, enhancing pre-flight weather checks and implementing go/no-go decision criteria based on weather conditions could further mitigate risks.\n",
        "\"\"\""
      ],
      "metadata": {
        "colab": {
          "base_uri": "https://localhost:8080/",
          "height": 122
        },
        "id": "Vyqf__S8PgV0",
        "outputId": "aaba6b43-0d28-4b7f-a5bf-584d10e99a88"
      },
      "id": "Vyqf__S8PgV0",
      "execution_count": null,
      "outputs": [
        {
          "output_type": "execute_result",
          "data": {
            "text/plain": [
              "'The analysis of incidents by weather condition indicates that  weather conditions such as VMC, correlates with a higher incidence of aircraft accidents. This finding underscores the importance of incorporating weather-related risk assessments into operational planning and decision-making. For the company, it may be prudent to establish stricter guidelines for flight operations during adverse weather conditions and ensure pilots receive adequate training to handle flights in challenging weather. Additionally, enhancing pre-flight weather checks and implementing go/no-go decision criteria based on weather conditions could further mitigate risks.\\n'"
            ],
            "application/vnd.google.colaboratory.intrinsic+json": {
              "type": "string"
            }
          },
          "metadata": {},
          "execution_count": 57
        }
      ]
    },
    {
      "cell_type": "markdown",
      "source": [
        "# **Frequency of Aircraft Incidents by Make**\n",
        "Visualization: A pie chart showing the number of incidents per aircraft make.\n",
        "\n",
        "Purpose: Identify which aircraft models have been involved in the most incidents.\n",
        "\n",
        "Summary Statistics: Count of incidents by aircraft make and model.\n"
      ],
      "metadata": {
        "id": "yp6V_jW2iU7Z"
      },
      "id": "yp6V_jW2iU7Z"
    },
    {
      "cell_type": "code",
      "source": [
        "# Get the counts for each aircraft make\n",
        "make_counts = AviationData_df['Make'].value_counts()\n",
        "\n",
        "# Plot pie chart\n",
        "plt.figure(figsize=(8, 8))\n",
        "plt.pie(make_counts[:10], labels=make_counts.index[:10], autopct='%1.1f%%', startangle=90, colors=plt.cm.Paired.colors)\n",
        "plt.title('Incidents by Aircraft Make (Top 10)')\n",
        "plt.show()"
      ],
      "metadata": {
        "colab": {
          "base_uri": "https://localhost:8080/",
          "height": 675
        },
        "id": "TB0fewa3UP4m",
        "outputId": "8ea7397f-76c3-4c9d-b3ce-5c1ea1c281a9"
      },
      "id": "TB0fewa3UP4m",
      "execution_count": null,
      "outputs": [
        {
          "output_type": "display_data",
          "data": {
            "text/plain": [
              "<Figure size 800x800 with 1 Axes>"
            ],
            "image/png": "[encoded data removed]"
          },
          "metadata": {}
        }
      ]
    },
    {
      "cell_type": "code",
      "source": [
        "\"\"\"\n",
        "The analysis of incidents by aircraft make reveals that these top 10 specific manufacturers have a higher frequency of incidents compared to others. This could indicate potential concerns regarding the safety records or reliability of those particular aircraft models. For the company’s strategic decision-making in aircraft acquisition, it would be beneficial to conduct a thorough evaluation of the safety performance and incident history of different makes. Prioritizing aircraft from manufacturers with a proven safety track record may enhance operational safety and reduce liability risks associated with purchasing and operating aircraft\n",
        "\"\"\""
      ],
      "metadata": {
        "colab": {
          "base_uri": "https://localhost:8080/",
          "height": 122
        },
        "id": "Hfa9NfEsjueY",
        "outputId": "1a1e3945-d497-40a2-ec54-94ef0f6edd29"
      },
      "id": "Hfa9NfEsjueY",
      "execution_count": null,
      "outputs": [
        {
          "output_type": "execute_result",
          "data": {
            "text/plain": [
              "'The analysis of incidents by aircraft make reveals that these top 10 specific manufacturers have a higher frequency of incidents compared to others. This could indicate potential concerns regarding the safety records or reliability of those particular aircraft models. For the company’s strategic decision-making in aircraft acquisition, it would be beneficial to conduct a thorough evaluation of the safety performance and incident history of different makes. Prioritizing aircraft from manufacturers with a proven safety track record may enhance operational safety and reduce liability risks associated with purchasing and operating aircraft\\n'"
            ],
            "application/vnd.google.colaboratory.intrinsic+json": {
              "type": "string"
            }
          },
          "metadata": {},
          "execution_count": 68
        }
      ]
    },
    {
      "cell_type": "markdown",
      "source": [
        "# **Time Series of Aircraft Incidents**\n",
        "Visualization: A line graph showing the number of incidents over time (using the Event.Date).\n",
        "\n",
        "Purpose: Determine if incidents have been increasing or decreasing over time.\n",
        "\n",
        "Summary Statistics: Yearly  count of incidents.\n"
      ],
      "metadata": {
        "id": "v3_eL5OmmahW"
      },
      "id": "v3_eL5OmmahW"
    },
    {
      "cell_type": "code",
      "source": [
        "# Ensure 'Event.Date' is in datetime format\n",
        "AviationData_df['Event.Date'] = pd.to_datetime(AviationData_df['Event.Date'], errors='coerce')\n",
        "\n",
        "# Group data by the date (you can group by year, month, etc.)\n",
        "incident_counts = AviationData_df.resample('M', on='Event.Date').size()  # 'M' means resample by month\n",
        "\n",
        "# Plot the time series using seaborn\n",
        "plt.figure(figsize=(12, 6))\n",
        "sns.lineplot(x=incident_counts.index, y=incident_counts.values)\n",
        "\n",
        "# Customize the plot\n",
        "plt.title('Aircraft Incidents Over Time (Monthly)')\n",
        "plt.xlabel('Date')\n",
        "plt.ylabel('Count of Incidents')\n",
        "plt.xticks(rotation=45)\n",
        "\n",
        "# Show the plot\n",
        "plt.show()"
      ],
      "metadata": {
        "colab": {
          "base_uri": "https://localhost:8080/",
          "height": 605
        },
        "id": "rzslgoP2VdWT",
        "outputId": "9f10bacd-2fab-4f7b-833b-3ffb9a2c491e"
      },
      "id": "rzslgoP2VdWT",
      "execution_count": null,
      "outputs": [
        {
          "output_type": "display_data",
          "data": {
            "text/plain": [
              "<Figure size 1200x600 with 1 Axes>"
            ],
            "image/png": "[encoded data removed]"
          },
          "metadata": {}
        }
      ]
    },
    {
      "cell_type": "code",
      "source": [
        "\"\"\"In the year  1980 going forward there was a general upward trend in incidents, it could suggest growing risks in aviation safety, warranting further investigation into operational practices, pilot training, and aircraft maintenance standards. Conversely,the trend went downwards in the latter years  indicating there might have been improvements in safety protocols and operational efficiencies.\n",
        "\n",
        "Understanding these temporal dynamics can guide strategic decision-making for the company's expansion into aviation. It emphasizes the importance of proactive risk management strategies and the need for ongoing monitoring of incident trends to enhance safety and operational reliability.\"\n",
        "\"\"\""
      ],
      "metadata": {
        "colab": {
          "base_uri": "https://localhost:8080/",
          "height": 122
        },
        "id": "kuIfavlWkMin",
        "outputId": "170c5428-59c0-4d2f-87d3-498a0a41e77b"
      },
      "id": "kuIfavlWkMin",
      "execution_count": null,
      "outputs": [
        {
          "output_type": "execute_result",
          "data": {
            "text/plain": [
              "'In the year  1980 going forward there was a general upward trend in incidents, it could suggest growing risks in aviation safety, warranting further investigation into operational practices, pilot training, and aircraft maintenance standards. Conversely,the trend went downwards in the latter years  indicating there might have been improvements in safety protocols and operational efficiencies.\\n\\nUnderstanding these temporal dynamics can guide strategic decision-making for the company\\'s expansion into aviation. It emphasizes the importance of proactive risk management strategies and the need for ongoing monitoring of incident trends to enhance safety and operational reliability.\"\\n'"
            ],
            "application/vnd.google.colaboratory.intrinsic+json": {
              "type": "string"
            }
          },
          "metadata": {},
          "execution_count": 70
        }
      ]
    },
    {
      "cell_type": "code",
      "source": [
        "import pandas as pd\n",
        "from google.colab import drive"
      ],
      "metadata": {
        "id": "xWS-w1iqu4eC"
      },
      "id": "xWS-w1iqu4eC",
      "execution_count": null,
      "outputs": []
    },
    {
      "cell_type": "code",
      "source": [
        "drive.mount('/content/drive')"
      ],
      "metadata": {
        "colab": {
          "base_uri": "https://localhost:8080/"
        },
        "id": "zLSn3O1-vAEu",
        "outputId": "ef86c222-0779-4295-fe26-b5a943bde920"
      },
      "id": "zLSn3O1-vAEu",
      "execution_count": null,
      "outputs": [
        {
          "output_type": "stream",
          "name": "stdout",
          "text": [
            "Drive already mounted at /content/drive; to attempt to forcibly remount, call drive.mount(\"/content/drive\", force_remount=True).\n"
          ]
        }
      ]
    },
    {
      "cell_type": "code",
      "source": [
        "AviationData_df.to_csv('/content/drive/My Drive/df.csv', index=False)"
      ],
      "metadata": {
        "id": "mWZhP1pFvLF1"
      },
      "id": "mWZhP1pFvLF1",
      "execution_count": null,
      "outputs": []
    }
  ],
  "metadata": {
    "colab": {
      "provenance": []
    },
    "kernelspec": {
      "display_name": "Python 3 (ipykernel)",
      "language": "python",
      "name": "python3"
    },
    "language_info": {
      "codemirror_mode": {
        "name": "ipython",
        "version": 3
      },
      "file_extension": ".py",
      "mimetype": "text/x-python",
      "name": "python",
      "nbconvert_exporter": "python",
      "pygments_lexer": "ipython3",
      "version": "3.12.4"
    }
  },
  "nbformat": 4,
  "nbformat_minor": 5
}